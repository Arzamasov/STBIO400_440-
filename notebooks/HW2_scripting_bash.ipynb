{
 "cells": [
  {
   "cell_type": "markdown",
   "metadata": {},
   "source": [
    "Before you turn this problem in, make sure everything runs as expected. First, **restart the kernel** (in the menubar, select Kernel$\\rightarrow$Restart) and then **run all cells** (in the menubar, select Cell$\\rightarrow$Run All).\n",
    "\n",
    "Make sure you fill in any place that says `YOUR CODE HERE` or \"YOUR ANSWER HERE\", as well as your name and collaborators below:"
   ]
  },
  {
   "cell_type": "code",
   "execution_count": null,
   "metadata": {},
   "outputs": [],
   "source": [
    "NAME = \"Alex Arzamasov\"\n",
    "COLLABORATORS = \"Ryan Loughran, Amrinder Singh, Abeera Mehmood\""
   ]
  },
  {
   "cell_type": "markdown",
   "metadata": {},
   "source": [
    "---"
   ]
  },
  {
   "cell_type": "markdown",
   "metadata": {
    "deletable": false,
    "editable": false,
    "nbgrader": {
     "cell_type": "markdown",
     "checksum": "aac633cdf7f5ccc1105211bb8408af8e",
     "grade": false,
     "grade_id": "cell-8531b0dab318b0d2",
     "locked": true,
     "schema_version": 3,
     "solution": false,
     "task": false
    }
   },
   "source": [
    "# Homework 2: Scripting and Jobs (Bash, cnt'd)\n",
    "Curated by Sabah Ul-Hasan, Huitian Dao, Shang-Fu Chen, Karthik Gangavarapu, and Andrew Su\n",
    "\n",
    "Complete homework is due every Tuesday at 8 AM PST.<br>\n",
    "Save your homework as you go, so the efforts don't get lost. <br>\n",
    "Note there are up 12 points, but you can only receive 10 points total for homework.\n",
    "\n",
    "In this assignment, you will <br>\n",
    "A2.aa Refresh your understanding of bash<br>\n",
    "A2.ab Explore pipes in-depth (+awk) <br>\n",
    "A2.ba Familiarize yourself with loops <br>\n",
    "A2.bb Compile what you've learned as a script <br>\n",
    "\n",
    "Note that there is a section at the end (A2.bb) to point out any enhancements you personally would make to this assignment if you were to lead the course. "
   ]
  },
  {
   "cell_type": "markdown",
   "metadata": {
    "deletable": false,
    "editable": false,
    "nbgrader": {
     "cell_type": "markdown",
     "checksum": "f91e41e26c897b775f817f8e0e11698d",
     "grade": false,
     "grade_id": "cell-e3c9da73e2811a39",
     "locked": true,
     "schema_version": 3,
     "solution": false,
     "task": false
    }
   },
   "source": [
    "## A2.aa: Refresh understanding of bash [20-30 min] Group of 4 "
   ]
  },
  {
   "cell_type": "markdown",
   "metadata": {
    "deletable": false,
    "editable": false,
    "nbgrader": {
     "cell_type": "markdown",
     "checksum": "fbe2d416483b622a5e1a310da09437a0",
     "grade": false,
     "grade_id": "cell-c2f549622733ffcc",
     "locked": true,
     "points": 1,
     "schema_version": 3,
     "solution": false,
     "task": true
    }
   },
   "source": [
    "#### Question 1 (1 point) [5 min]\n",
    "In your group, identify four items you each considered to be the most difficult part of Homework 1. Then, break into pairs based on who in the group found it easier to navigate vs harder to navigate. In other words, pair yourself with someone who better understood what you found difficult and vice versa. Denote what these sections are below as a,b,c,or d."
   ]
  },
  {
   "cell_type": "markdown",
   "metadata": {},
   "source": [
    "1. Some questions in the HW1 were a bit ambiguous (e.g., Question 10) and left too much space for interpretation\n",
    "2. Why Jupyter Notebook does not allow input from the console\n",
    "3. How to properly incorporate a bash script into Jupyter Notebook "
   ]
  },
  {
   "cell_type": "markdown",
   "metadata": {
    "deletable": false,
    "editable": false,
    "nbgrader": {
     "cell_type": "markdown",
     "checksum": "c82394c105487c0c81e0e1b8e48f2a35",
     "grade": false,
     "grade_id": "cell-33e455f553bdbc47",
     "locked": true,
     "points": 1,
     "schema_version": 3,
     "solution": false,
     "task": true
    }
   },
   "source": [
    "#### Question 2 (1 point) [10 min, 15 min]\n",
    "Spend time discussing your troubleshooting process of working through what the other person found as difficult with one another. Write down what you learned. What was the before vs after result?\n",
    "Then, share as a whole group. Write down what you gained from the discussion in how you will be approaching bash scripting differently than you would do before."
   ]
  },
  {
   "cell_type": "markdown",
   "metadata": {},
   "source": [
    "1. `grep` has a lot of functionality besides `-v`\n",
    "2. `cat script.sh` allows printing the content of a bash script\n",
    "3. `uniq` does not collapse duplicates unless they are adjacent lines. Thus, the `sort | uniq` structure is needed to correctly identify all duplicates\n",
    "4. `sort` is handy, but you have to be aware of how the sorting works\n",
    "5. use `!/bin/bash` (shebang line) in every .sh script to let the system know what interpreter you want to be used. `bash script.sh` without this line in the script body will work, but not everybody uses `bash` to run scripts"
   ]
  },
  {
   "cell_type": "markdown",
   "metadata": {
    "deletable": false,
    "editable": false,
    "nbgrader": {
     "cell_type": "markdown",
     "checksum": "aaf4efeb962992209fc2646ecce4aa71",
     "grade": false,
     "grade_id": "cell-0948135824f7008f",
     "locked": true,
     "schema_version": 3,
     "solution": false,
     "task": false
    }
   },
   "source": [
    "## A2.aa: Explore pipes in-depth (+awk) [20-30 min] TPS \n",
    "- On your own time, try the following exercises [10-15 min]"
   ]
  },
  {
   "cell_type": "markdown",
   "metadata": {
    "deletable": false,
    "editable": false,
    "nbgrader": {
     "cell_type": "markdown",
     "checksum": "c50197ae5089632386975bcdbfce7634",
     "grade": false,
     "grade_id": "cell-1ff35e1dfe3e898b",
     "locked": true,
     "points": 1,
     "schema_version": 3,
     "solution": false,
     "task": true
    }
   },
   "source": [
    "#### Question 3 (1 point)\n",
    "Describe your current understanding of pipes. What are the various approaches, where does __`awk`__ come into play?\n",
    "\n",
    "\n",
    "Find the error and fix to run the script. Describe the error in a sentence. What is `{print $3}` doing? Describe what awk is doing this, and its limitations in recognizing delimiters (Hint: tab). \n",
    "\n",
    "```ruby\n",
    "%%bash\n",
    "awk '{print $3}' data/new_folder/artists_new.txt\n",
    "```\n"
   ]
  },
  {
   "cell_type": "code",
   "execution_count": 145,
   "metadata": {},
   "outputs": [
    {
     "name": "stdout",
     "output_type": "stream",
     "text": [
      "Baroque\n",
      "Romanticism\n",
      "Romanticism\n",
      "Romanticism\n",
      "Baroque\n",
      "Romanticism\n",
      "Baroque\n",
      "Realism\n",
      "Northern Renaissance\n",
      "Realism\n",
      "Romanticism\n",
      "Baroque\n",
      "Baroque\n",
      "Early Renaissance\n",
      "Medieval\n",
      "Early Renaissance\n",
      "Realism\n",
      "Medieval\n",
      "Medieval\n",
      "Early Renaissance\n",
      "High Renaissance\n",
      "Early Renaissance\n",
      "Baroque\n",
      "Baroque\n",
      "Baroque\n",
      "Rococo\n",
      "Neoclassicism\n",
      "Impressionism\n",
      "Baroque\n",
      "Baroque\n",
      "Mannerism\n",
      "Baroque\n",
      "Baroque\n",
      "Rococo\n",
      "Romanticism\n",
      "Baroque\n",
      "Baroque\n",
      "Rococo\n",
      "Baroque\n",
      "Baroque\n",
      "Mannerism\n",
      "Romanticism\n",
      "Rococo\n",
      "Baroque\n",
      "Baroque\n",
      "Baroque\n",
      "Neoclassicism\n",
      "Baroque\n",
      "Baroque\n",
      "Baroque\n",
      "Baroque\n",
      "Baroque\n",
      "Baroque\n",
      "Baroque\n",
      "Neoclassicism\n",
      "Mannerism\n",
      "Baroque\n",
      "Baroque\n",
      "Baroque\n",
      "Baroque\n",
      "Mannerism\n",
      "Romanticism\n",
      "Baroque\n",
      "Baroque\n",
      "Baroque\n",
      "Realism\n",
      "Romanticism\n",
      "Romanticism\n",
      "Romanticism\n",
      "Rococo\n",
      "Baroque\n",
      "Neoclassicism\n",
      "Baroque\n",
      "Baroque\n",
      "Baroque\n",
      "Rococo\n",
      "Rococo\n",
      "Rococo\n",
      "Neoclassicism\n",
      "Romanticism\n",
      "Northern Renaissance\n",
      "Romanticism\n",
      "Romanticism\n",
      "Baroque\n",
      "Baroque\n",
      "Romanticism\n",
      "Northern Renaissance\n",
      "Baroque\n",
      "Baroque\n",
      "Neoclassicism\n",
      "Rococo\n",
      "Mannerism\n",
      "Baroque\n",
      "Baroque\n",
      "Baroque\n",
      "Baroque\n",
      "Baroque\n",
      "Baroque\n",
      "Northern Renaissance\n",
      "Romanticism\n",
      "Mannerism\n",
      "Realism\n",
      "Early Renaissance\n",
      "High Renaissance\n",
      "Mannerism\n",
      "Realism\n",
      "Baroque\n",
      "High Renaissance\n",
      "Baroque\n",
      "Romanticism\n",
      "Mannerism\n",
      "Baroque\n",
      "Realism\n",
      "Romanticism\n",
      "Baroque\n",
      "Baroque\n",
      "Baroque\n",
      "Realism\n",
      "Neoclassicism\n",
      "Neoclassicism\n",
      "Baroque\n",
      "Baroque\n",
      "Baroque\n",
      "Baroque\n",
      "Baroque\n",
      "Early Renaissance\n",
      "Baroque\n",
      "Baroque\n",
      "Northern Renaissance\n",
      "Northern Renaissance\n",
      "Neoclassicism\n",
      "Medieval\n",
      "Early Renaissance\n",
      "Medieval\n",
      "Early Renaissance\n",
      "Medieval\n",
      "High Renaissance\n",
      "High Renaissance\n",
      "Neoclassicism\n",
      "Realism\n",
      "Rococo\n",
      "Medieval\n",
      "Early Renaissance\n",
      "Baroque\n",
      "Medieval\n",
      "Early Renaissance\n",
      "Mannerism\n",
      "Mannerism\n",
      "Early Renaissance\n",
      "Early Renaissance\n"
     ]
    }
   ],
   "source": [
    "%%bash\n",
    "awk -F \"\\t\" '{print $3}' data/new_folder/artists_new.txt \n",
    "# {print $3} prints the third column, but the numbering of columns depends on delimiters\n",
    "# the error was not specifying the delimiter correctly; by default, awk recognizes both spaces and tabs as separators, whatever it finds first"
   ]
  },
  {
   "cell_type": "markdown",
   "metadata": {
    "deletable": false,
    "editable": false,
    "nbgrader": {
     "cell_type": "markdown",
     "checksum": "e197765378bbc7b071a60b6144fb3127",
     "grade": false,
     "grade_id": "cell-a1d79798122352a1",
     "locked": true,
     "points": 1,
     "schema_version": 3,
     "solution": false,
     "task": true
    }
   },
   "source": [
    "#### Question 4 (1 point) [10-15 min]\n",
    "Use __`awk`__, __`sort`__, and/or __`uniq`__ to find the most common last names among all artists in `artists.txt`  \n",
    "Now, discuss your findings with your partner. What was similar, and what was different?\n"
   ]
  },
  {
   "cell_type": "code",
   "execution_count": 61,
   "metadata": {},
   "outputs": [
    {
     "name": "stdout",
     "output_type": "stream",
     "text": [
      "      5 KOBELL\n",
      "      5 KNIP\n",
      "      4 KONINCK\n",
      "      4 ALBERTI\n",
      "      4 ADAM\n",
      "      3 TENIERS\n",
      "      3 TARAVAL\n",
      "      3 AGOSTINO\n",
      "      3 AGNOLO\n",
      "      2 TESSIN\n",
      "      2 TEMPESTA\n",
      "      2 TEDESCO\n",
      "      2 TASSAERT\n",
      "      2 TALENTI\n",
      "      2 TADDEO\n",
      "      2 TACCA\n",
      "      2 KNYFF\n",
      "      2 KNIJFF\n",
      "      2 KLODT\n",
      "      2 KISS\n",
      "      1 TETRODE\n",
      "      1 TESTELIN\n",
      "      1 TESTA\n",
      "      1 TERZIO\n",
      "      1 TERRENI\n",
      "      1 TERILLI\n",
      "      1 TERBRUGGHEN\n",
      "      1 TERBORCH\n",
      "      1 TENGNAGEL\n",
      "      1 TENERANI\n",
      "      1 TEMPEL\n",
      "      1 TEMANZA\n",
      "      1 TELEPY\n",
      "      1 TEERLINC\n",
      "      1 TAUNAY\n",
      "      1 TASSI\n",
      "      1 TASSEL\n",
      "      1 TARUFFI\n",
      "      1 TARSIA\n",
      "      1 TARGONE\n",
      "      1 TARDIEU\n",
      "      1 TARCHIANI\n",
      "      1 TARBELL\n",
      "      1 TANZIO\n",
      "      1 TAMM\n",
      "      1 TAMAGNINO\n",
      "      1 TAMAGNI\n",
      "      1 TALPA\n",
      "      1 TADOLINI\n",
      "      1 TACCONE\n",
      "      1 KŘBKE\n",
      "      1 KOPISCH\n",
      "      1 KONRAD\n",
      "      1 KÖNIG\n",
      "      1 KOMPE\n",
      "      1 KOLUNIĆ\n",
      "      1 KOLLONITSCH\n",
      "      1 KOLBE\n",
      "      1 KOKORINOV\n",
      "      1 KOETS\n",
      "      1 KOERBECKE\n",
      "      1 KOEKKOEK\n",
      "      1 KOEDIJCK\n",
      "      1 KOEBERGER\n",
      "      1 KOCH\n",
      "      1 KOBERGER\n",
      "      1 KNÜPFER\n",
      "      1 KNOLLER\n",
      "      1 KNOBELSDORFF\n",
      "      1 KNELLER\n",
      "      1 KNEBEL\n",
      "      1 KLOCKER\n",
      "      1 KLINGER\n",
      "      1 KLESECKER\n",
      "      1 KLENZE\n",
      "      1 KLEINER\n",
      "      1 KINSOEN\n",
      "      1 KILIAN\n",
      "      1 ALBERTINELLI\n",
      "      1 ALBEREGNO\n",
      "      1 ALBANI\n",
      "      1 ALBA\n",
      "      1 AKOTANTOS\n",
      "      1 AKEN\n",
      "      1 AIVAZOVSKY\n",
      "      1 AGUADO\n",
      "      1 AGRATE\n",
      "      1 AGASSE\n",
      "      1 AERTSEN\n",
      "      1 AERT\n",
      "      1 AENVANCK\n",
      "      1 AELST\n",
      "      1 ADRIANO\n",
      "      1 ADRIAENSSEN\n",
      "      1 ADRIAEN\n",
      "      1 ADOLPHI\n",
      "      1 ADOLFZOON\n",
      "      1 ADLER\n",
      "      1 ADEMOLLO\n",
      "      1 ADELCRANTZ\n",
      "      1 ADAM-SALOMON\n",
      "      1 ACHENBACH\n",
      "      1 ACERO\n",
      "      1 ABONDIO\n",
      "      1 ABILDGAARD\n",
      "      1 ABEELE\n",
      "      1 ABBONDI\n",
      "      1 ABBATINI\n",
      "      1 ABBATI\n",
      "      1 ABBATE\n",
      "      1 ABAQUESNE\n",
      "      1 ABADIA\n",
      "      1 AAGAARD\n",
      "      1 AACHEN\n"
     ]
    }
   ],
   "source": [
    "%%bash\n",
    "awk -F \"\\t\" '{print $1}' data/new_folder/artists_new.txt | awk '{print $1}' | tr -d \",\"| sort | uniq -c | sort -r"
   ]
  },
  {
   "cell_type": "markdown",
   "metadata": {
    "deletable": false,
    "editable": false,
    "nbgrader": {
     "cell_type": "markdown",
     "checksum": "422551ae71edc1d1eec7109458aebea2",
     "grade": false,
     "grade_id": "cell-4e1133a9dd69b7b5",
     "locked": true,
     "schema_version": 3,
     "solution": false,
     "task": false
    }
   },
   "source": [
    "On your own: "
   ]
  },
  {
   "cell_type": "markdown",
   "metadata": {
    "deletable": false,
    "editable": false,
    "nbgrader": {
     "cell_type": "markdown",
     "checksum": "789359a3bf0045b94a629f43a4d2d3f4",
     "grade": false,
     "grade_id": "cell-300b78e3db68717f",
     "locked": true,
     "points": 1,
     "schema_version": 3,
     "solution": false,
     "task": true
    }
   },
   "source": [
    "#### Question 5 (1 point)\n",
    "Now that we've worked through these in pairs, create a bash script that integrates two items we haven't yet tried in the exercises, such as __`NF`__, to answer a question about the `artists.txt` file. Describe briefly what this does. Have this complete pior to next class.\n",
    "\n",
    "\n",
    "Reflections: On an integer scale of 1-5, 1 being very easy and 5 being the most difficult, where would you rank today's exercises? Provide brief notes on what was easy vs difficult, and why.  \n"
   ]
  },
  {
   "cell_type": "code",
   "execution_count": 60,
   "metadata": {},
   "outputs": [
    {
     "name": "stdout",
     "output_type": "stream",
     "text": [
      "KLINGER, Max (1857-1920) 4\n",
      "KLODT, Mikhail Konstantinovich (c. 1832-1902) 4\n",
      "TADOLINI, Scipione (1822-1892) 4\n",
      "KNIP, Henriëtte (1821-1909) 4\n",
      "AAGAARD, Carl Frederik (1833-1895) 4\n",
      "ABBATI, Giuseppe (1836-1868) 4\n",
      "ACHENBACH, Oswald (1827-1905) 4\n",
      "ADAM-SALOMON, Antoine-Samuel (1818-1881) 4\n",
      "AIVAZOVSKY, Ivan Konstantinovich (1817-1900) 4\n"
     ]
    }
   ],
   "source": [
    "%%bash\n",
    "awk -F \"\\t\" '$3 == \"Realism\" {print $1, $2, NF}' data/new_folder/artists_new.txt\n",
    "# prints only artists (and their years of life) that have \"realism\" in the third column\n",
    "# NF is a predefined variable whose value is the number of fields in the current record"
   ]
  },
  {
   "cell_type": "markdown",
   "metadata": {
    "deletable": false,
    "editable": false,
    "nbgrader": {
     "cell_type": "markdown",
     "checksum": "d409f9fc6cae08e7b63130c8d984ab3b",
     "grade": false,
     "grade_id": "cell-e30a29557264afab",
     "locked": true,
     "schema_version": 3,
     "solution": false,
     "task": false
    }
   },
   "source": [
    "## A2.ba: Loops [20-30 min] Group of 3\n",
    "### ba.i Loops [10 min]\n",
    "On your own"
   ]
  },
  {
   "cell_type": "markdown",
   "metadata": {
    "deletable": false,
    "editable": false,
    "nbgrader": {
     "cell_type": "markdown",
     "checksum": "e2f4253ac48fadd7228cd8fa9496e94a",
     "grade": false,
     "grade_id": "cell-6a789383b1f6dddd",
     "locked": true,
     "points": 1,
     "schema_version": 3,
     "solution": false,
     "task": true
    }
   },
   "source": [
    "#### Question 6 (1 point)\n",
    "Describe how a loop operates. Why and when do you want to use a loop, vs a single command string?\n",
    "\n",
    "\n",
    "Write a bash for loop that outpouts letters a-e\n"
   ]
  },
  {
   "cell_type": "markdown",
   "metadata": {},
   "source": [
    "1. A loop repetitively performs the given set of commands\n",
    "2. When we have to work with multiple objects, e.g., want to modify multiple files simultaneously. Doing it one line by one line is tedious"
   ]
  },
  {
   "cell_type": "code",
   "execution_count": 35,
   "metadata": {},
   "outputs": [
    {
     "name": "stdout",
     "output_type": "stream",
     "text": [
      "a\n",
      "b\n",
      "c\n",
      "d\n",
      "e\n"
     ]
    }
   ],
   "source": [
    "%%bash\n",
    "for var in {a..e} # apparently globbing does not work gere\n",
    "do\n",
    "    echo $var\n",
    "done"
   ]
  },
  {
   "cell_type": "code",
   "execution_count": 36,
   "metadata": {},
   "outputs": [
    {
     "name": "stdout",
     "output_type": "stream",
     "text": [
      "a\n",
      "b\n",
      "c\n",
      "d\n",
      "e\n"
     ]
    }
   ],
   "source": [
    "%%bash\n",
    "for var in {a..e}; do echo $var; done # one line also works"
   ]
  },
  {
   "cell_type": "markdown",
   "metadata": {
    "deletable": false,
    "editable": false,
    "nbgrader": {
     "cell_type": "markdown",
     "checksum": "0a34614523a3aa98ed5cfa9593e7e958",
     "grade": false,
     "grade_id": "cell-8707f4ad4abb75b7",
     "locked": true,
     "points": 1,
     "schema_version": 3,
     "solution": false,
     "task": true
    }
   },
   "source": [
    "#### Question 7 (1 point)\n",
    "What are the different types of loops, and when might you want to try one over another? Script an example.\n"
   ]
  },
  {
   "cell_type": "code",
   "execution_count": 143,
   "metadata": {},
   "outputs": [
    {
     "name": "stdout",
     "output_type": "stream",
     "text": [
      "1\n",
      "2\n",
      "3\n",
      "4\n",
      "5\n"
     ]
    }
   ],
   "source": [
    "%%bash\n",
    "counter=1\n",
    "while [ $counter -le 5 ]\n",
    "do\n",
    "    echo $counter\n",
    "    ((counter++))\n",
    "done\n",
    "# the two primary loop types are `for` and `while`\n",
    "# the `for` loop iterates over a list of items (e.g., files in a directory) and performs the given set of commands\n",
    "# the `while` loop performs the given set of commands while the condition of the loop is true"
   ]
  },
  {
   "cell_type": "markdown",
   "metadata": {
    "deletable": false,
    "editable": false,
    "nbgrader": {
     "cell_type": "markdown",
     "checksum": "d78c170c0b37ebc11e5bd01bca701f95",
     "grade": false,
     "grade_id": "cell-fe05faaf91b75713",
     "locked": true,
     "schema_version": 3,
     "solution": false,
     "task": false
    }
   },
   "source": [
    "### A2.bb: Create a script to run a job [20-30 min] Individual\n",
    "Get excited, we're about to apply what we've learned from a technical perspective to the science-y stuff! Familiar with 'fasta files' from NCBI? Here we go!\n",
    "https://blast.ncbi.nlm.nih.gov/Blast.cgi?CMD=Web&PAGE_TYPE=BlastDocs&DOC_TYPE=BlastHelp\n",
    "\n",
    "#### bb.i Applying what we've learned on bash to biology <br>"
   ]
  },
  {
   "cell_type": "markdown",
   "metadata": {
    "deletable": false,
    "editable": false,
    "nbgrader": {
     "cell_type": "markdown",
     "checksum": "4202ea12b8fcf4b5f7b2a852be8f7f22",
     "grade": false,
     "grade_id": "cell-ddee5afbc0429aee",
     "locked": true,
     "points": 1,
     "schema_version": 3,
     "solution": false,
     "task": true
    }
   },
   "source": [
    "#### Question 8 (1 point)\n",
    "In your \"Applied-Bioinformatics_Course\" Github repository, create a folder titled \"HW2_[Lastname]\"  \n",
    "_Note: Always check that you're in the correct working directory_\n",
    "\n",
    "Create a bash loop that renames all the files in the folder data/fastq folder from `*.fq` to `*.fastq`  \n",
    "_Note: Have all these files copied and moved into the `new_folder` directory so as not to overwrite the original `*.fq`_\n"
   ]
  },
  {
   "cell_type": "markdown",
   "metadata": {},
   "source": [
    "Done"
   ]
  },
  {
   "cell_type": "markdown",
   "metadata": {
    "deletable": false,
    "editable": false,
    "nbgrader": {
     "cell_type": "markdown",
     "checksum": "9afafd95672258b2dc295b5b48288b61",
     "grade": false,
     "grade_id": "cell-24812d415f3fdeac",
     "locked": true,
     "points": 1,
     "schema_version": 3,
     "solution": false,
     "task": true
    }
   },
   "source": [
    "#### Question 9 (1 point)\n",
    "Print all nucleotide sequences from ./data/fastq/simulated1.R1.fastq by replacing all 'T's in the nucleotide sequences with 'U's\n"
   ]
  },
  {
   "cell_type": "code",
   "execution_count": 135,
   "metadata": {},
   "outputs": [
    {
     "name": "stdout",
     "output_type": "stream",
     "text": [
      "@Puerto_5207_5777_1:0:0_2:0:0_0/1\n",
      "UGGGAAAACCAGGAGAGUUCUUCCUGAAAUAGUCCGUGAAGCCAUAAAAAGAAGACUCCGUACUGUGAUC\n",
      "+\n",
      "2222222222222222222222222222222222222222222222222222222222222@@@@@@@@@\n",
      "@Puerto_4126_4595_1:0:0_0:0:0_1/1\n",
      "ACUUACCAUUUGUCAUGGCCCUGGGACUAACCGCUGUGAGGCUGGUCGACCCGAUCAACGUGGUGGGACU\n",
      "+\n",
      "2222222222222222222222222222222222222222222222222222222222222222222222\n",
      "@Puerto_8069_8649_4:0:0_1:0:0_2/1\n",
      "GCCAGACAACCCCGUUUAUUAGAGAGGACGCUGACCCUUGUGUGGGGGCCUCAUAGCUUCCAUGGUAAGC\n",
      "+\n",
      "2222222222222222222222222222222222222222222222222222222222222222222222\n",
      "@Puerto_2090_2540_1:0:0_3:0:0_3/1\n",
      "CUCUAAGCUGAUGCUGGAACUUGAUCCACCAUUUGGGGACUCUUACAUUGUCAUAGGAGUCGGGGAGAAG\n",
      "+\n",
      "2222222222222222222222222222222222222222222222222222222222222222222222\n",
      "@Puerto_7758_8266_0:0:0_1:0:0_4/1\n",
      "GGCAUCACCGAGGUGUGCAGAGAAGAGGCCCGCCGCGCCCUCAAGGACGGUGUGGCAACGGGAGGCCAUG\n",
      "+\n",
      "2222222222222222222222222222222222222222222222222222222222222222222222\n",
      "@Puerto_2795_3256_2:0:0_0:0:0_5/1\n",
      "GAGAUUGCCCGUGCCUGUGAACGAGCUGCCCCACGGGUGGAAGGCUUUGGGGAAAUCGUAUUUCGUCAGA\n",
      "+\n",
      "2222222222222222222222222222222222222222222222222222222222222222222222\n",
      "@Puerto_2172_2650_0:0:0_2:0:0_6/1\n",
      "AUACCAUCAUCCCAGGCUUGCUUGACUGCUGCUGGCAAUCUACGGGGGGAGUCAGGAUGGUACUUGUACC\n",
      "+\n",
      "2222222222222222222222222222222222222222222222222222222222222222222222\n",
      "@Puerto_3618_4126_1:0:0_1:0:0_7/1\n",
      "UUCUUCUUCACACUGCCUUUUCCCUUCAGAGAGAGGAGCAAAAACCCCCCGCAAGUAGCAAGGCCUGCUC\n",
      "+\n",
      "2222222222222222222222222222222222222222222222222222222222222222222222\n",
      "@Puerto_362_896_1:0:0_1:0:0_8/1\n",
      "GAAAGAUCUGGCUGCCAAGCUGAGAAUAAUCAAUGCUAGGAAGGAGAAGAAGAGACGAGGCGCAGAUACU\n",
      "+\n",
      "2222222222222222222222222222222222222222222222222222222222222222222222\n",
      "@Puerto_8730_9289_0:0:0_1:0:0_9/1\n",
      "GUUUUCAAGGAAAAAGUGGACACUAGGGUGCCAGACCCCCAAGAAGGCACUCGUCAGGUUAUGAGCAUGG\n",
      "+\n",
      "2222222222222222222222222222222222222222222222222222222222222222222222\n",
      "@Puerto_2020_2513_1:0:0_2:0:0_a/1\n",
      "ACAUGCAAACUCUGACCCCAGUUGGGAGGUUGAUAACCGCUAACCCCGUACUCACUGAAAGCACUGAGAA\n",
      "+\n",
      "2222222222222222222222222222222222222222222222222222222222222222222222\n",
      "@Puerto_8179_8741_1:0:0_0:0:0_b/1\n",
      "GGCUUGAAAAAAGACCAGGAGCCUUUUGUAUAAAAGUGUUGUGCCCAUACACCAGCACUAUGCUGGAAAC\n",
      "+\n",
      "2222222222222222222222222222222222222222222222222222222222222222222222\n",
      "@Puerto_8541_9051_1:0:0_2:0:0_c/1\n",
      "UCUUUUCUCUUUUUCCCAUCAUGUUGUACACACAGCUCUGGCACUCUCCUCUCAGGUGGUGCACUCUUUG\n",
      "+\n",
      "2222222222222222222222222222222222222222222222222222222222222222222222\n",
      "@Puerto_1817_2345_0:0:0_3:0:0_d/1\n",
      "CACUGAUUUGAAAGGUGCUCCAAAAAUUUGAUGGAUGCGCUUGCCCAAUGAGUUGAGAGCGCCUCCAACU\n",
      "+\n",
      "2222222222222222222222222222222222222222222222222222222222222222222222\n",
      "@Puerto_8936_9483_0:0:0_1:0:0_e/1\n",
      "CUUUUCCGCUCCCCCUUUGGUCUUGUCUCGAAAUAAUGUCCAUAACUGUUUUCCCUUUUUCAGCUGGUCU\n",
      "+\n",
      "2222222222222222222222222222222222222222222222222222222222222222222222\n",
      "@Puerto_1548_2094_1:0:0_2:0:0_f/1\n",
      "UAGAGUUCUCAGUUCUUUCAGUGAUUACGGGGUUAGCUGUUAUCAACCUCCCAACUGGGGUCAGAGUUUG\n",
      "+\n",
      "2222222222222222222222222222222222222222222222222222222222222222222222\n",
      "@Puerto_7508_8051_2:0:0_2:0:0_10/1\n",
      "ACUCUUAAUACGGACUAUGAUCCACCCAUAGCUUUGCACCAACACGGGUUCUUCAUGACCAGGGCCUCCU\n",
      "+\n",
      "2222222222222222222222222222222222222222222222222222222222222222222222\n",
      "@Puerto_6768_7305_1:0:0_0:0:0_11/1\n",
      "CCAGCCAGAAUUGCAUGUGUCCACAUUGUUGUGUUCCUAUUGCUGGUGGUGCUCAUACCUGAGCCAGAAA\n",
      "+\n",
      "2222222222222222222222222222222222222222222222222222222222222222222222\n",
      "@Puerto_5435_5937_5:0:0_1:0:0_12/1\n",
      "GAAUGACUCUCUCGCCAUCAAGAAUGACCGGCUUUAGGCAUCUCCUGGAAUCUAUGACACGGUCAGCUUU\n",
      "+\n",
      "@@@2222222222222222222222222222222222222222222222222222222222222222222\n",
      "@Puerto_9144_9685_4:0:0_0:0:0_13/1\n",
      "UUGAACGAGGAUCACUGGAUGUGGAGAUAGAACACAGGAGGUGGUGUUUAAGGGCUGGGAUUACAAAGAC\n",
      "+\n",
      "2222222222222222222222222222222222222222222222222222222222222222222222\n"
     ]
    }
   ],
   "source": [
    "%%bash\n",
    "cat ./data/fastq/simulated1.R1.fq | sed 's/T/U/g'"
   ]
  },
  {
   "cell_type": "code",
   "execution_count": 3,
   "metadata": {},
   "outputs": [
    {
     "name": "stdout",
     "output_type": "stream",
     "text": [
      "UGGGAAAACCAGGAGAGUUCUUCCUGAAAUAGUCCGUGAAGCCAUAAAAAGAAGACUCCGUACUGUGAUC\n",
      "ACUUACCAUUUGUCAUGGCCCUGGGACUAACCGCUGUGAGGCUGGUCGACCCGAUCAACGUGGUGGGACU\n",
      "GCCAGACAACCCCGUUUAUUAGAGAGGACGCUGACCCUUGUGUGGGGGCCUCAUAGCUUCCAUGGUAAGC\n",
      "CUCUAAGCUGAUGCUGGAACUUGAUCCACCAUUUGGGGACUCUUACAUUGUCAUAGGAGUCGGGGAGAAG\n",
      "GGCAUCACCGAGGUGUGCAGAGAAGAGGCCCGCCGCGCCCUCAAGGACGGUGUGGCAACGGGAGGCCAUG\n",
      "GAGAUUGCCCGUGCCUGUGAACGAGCUGCCCCACGGGUGGAAGGCUUUGGGGAAAUCGUAUUUCGUCAGA\n",
      "AUACCAUCAUCCCAGGCUUGCUUGACUGCUGCUGGCAAUCUACGGGGGGAGUCAGGAUGGUACUUGUACC\n",
      "UUCUUCUUCACACUGCCUUUUCCCUUCAGAGAGAGGAGCAAAAACCCCCCGCAAGUAGCAAGGCCUGCUC\n",
      "GAAAGAUCUGGCUGCCAAGCUGAGAAUAAUCAAUGCUAGGAAGGAGAAGAAGAGACGAGGCGCAGAUACU\n",
      "GUUUUCAAGGAAAAAGUGGACACUAGGGUGCCAGACCCCCAAGAAGGCACUCGUCAGGUUAUGAGCAUGG\n",
      "ACAUGCAAACUCUGACCCCAGUUGGGAGGUUGAUAACCGCUAACCCCGUACUCACUGAAAGCACUGAGAA\n",
      "GGCUUGAAAAAAGACCAGGAGCCUUUUGUAUAAAAGUGUUGUGCCCAUACACCAGCACUAUGCUGGAAAC\n",
      "UCUUUUCUCUUUUUCCCAUCAUGUUGUACACACAGCUCUGGCACUCUCCUCUCAGGUGGUGCACUCUUUG\n",
      "CACUGAUUUGAAAGGUGCUCCAAAAAUUUGAUGGAUGCGCUUGCCCAAUGAGUUGAGAGCGCCUCCAACU\n",
      "CUUUUCCGCUCCCCCUUUGGUCUUGUCUCGAAAUAAUGUCCAUAACUGUUUUCCCUUUUUCAGCUGGUCU\n",
      "UAGAGUUCUCAGUUCUUUCAGUGAUUACGGGGUUAGCUGUUAUCAACCUCCCAACUGGGGUCAGAGUUUG\n",
      "ACUCUUAAUACGGACUAUGAUCCACCCAUAGCUUUGCACCAACACGGGUUCUUCAUGACCAGGGCCUCCU\n",
      "CCAGCCAGAAUUGCAUGUGUCCACAUUGUUGUGUUCCUAUUGCUGGUGGUGCUCAUACCUGAGCCAGAAA\n",
      "GAAUGACUCUCUCGCCAUCAAGAAUGACCGGCUUUAGGCAUCUCCUGGAAUCUAUGACACGGUCAGCUUU\n",
      "UUGAACGAGGAUCACUGGAUGUGGAGAUAGAACACAGGAGGUGGUGUUUAAGGGCUGGGAUUACAAAGAC\n"
     ]
    }
   ],
   "source": [
    "%%bash\n",
    "\n",
    "# \"awk \"NR%4==2\" prints every fourth line starting line 2\n",
    "cat ./data/fastq/simulated1.R1.fq | awk \"NR%4==2\" | sed 's/T/U/g'"
   ]
  },
  {
   "cell_type": "markdown",
   "metadata": {
    "deletable": false,
    "editable": false,
    "nbgrader": {
     "cell_type": "markdown",
     "checksum": "a1aadc9db8f151df20374075f9a42575",
     "grade": false,
     "grade_id": "cell-d806d7b7c1a25af3",
     "locked": true,
     "points": 1,
     "schema_version": 3,
     "solution": false,
     "task": true
    }
   },
   "source": [
    "#### Question 10 (1 point)\n",
    "Create a bash loop that renames all the files in the folder data/fastq folder from `*.fq` to `*.fastq`  \n",
    "_Note: Have all these files copied and moved into the `new_folder` directory so as not to overwrite the original `*.fq`_\n"
   ]
  },
  {
   "cell_type": "code",
   "execution_count": 142,
   "metadata": {},
   "outputs": [
    {
     "name": "stderr",
     "output_type": "stream",
     "text": [
      "mkdir: cannot create directory `new_folder/fastq': File exists\n"
     ]
    }
   ],
   "source": [
    "%%bash\n",
    "cd data\n",
    "mkdir new_folder/fastq\n",
    "cp -r fastq new_folder # copy original files to a new directory\n",
    "cd new_folder/fastq\n",
    "for file in *.fq\n",
    "do\n",
    "    newfile=\"${file/%.fq/.fastq}\" # this variable allows replacing *.fq to *.fastq\n",
    "    mv $file $newfile\n",
    "done"
   ]
  },
  {
   "cell_type": "code",
   "execution_count": 8,
   "metadata": {},
   "outputs": [
    {
     "name": "stderr",
     "output_type": "stream",
     "text": [
      "mkdir: cannot create directory `new_folder/fastq2': File exists\n"
     ]
    }
   ],
   "source": [
    "%%bash\n",
    "# alternative approach\n",
    "cd data\n",
    "mkdir new_folder/fastq2\n",
    "ls fastq > list.txt\n",
    "cat list.txt | sed 's/.fq//g' | parallel cp fastq/{}.fq new_folder/fastq2/{}.fastq"
   ]
  },
  {
   "cell_type": "markdown",
   "metadata": {
    "deletable": false,
    "editable": false,
    "nbgrader": {
     "cell_type": "markdown",
     "checksum": "9bddab6c0cd0b30cbc4c12faff6d15ad",
     "grade": false,
     "grade_id": "cell-383a0643090d29f1",
     "locked": true,
     "schema_version": 3,
     "solution": false,
     "task": false
    }
   },
   "source": [
    "#### Question 11 (1 point) <br>\n",
    "Reflections: On an integer scale of 1-5, 1 being very easy and 5 being the most difficult, where would you rank the A2.bb assignment and why? Include some notes about what you gained from this past week that you didn't know before as well as notes of things you already knew. \n",
    "\n",
    "Improvements: Notice a [potentially intentional] mistake, or an area of this homework that could have been improved? Include your thoughts here. "
   ]
  },
  {
   "cell_type": "markdown",
   "metadata": {},
   "source": [
    "1. 4, a lot of googling/reading required\n",
    "2. `awk | awk` pipes are useful for isolating subcolumns from columns\n",
    "3. Certain globbing patterns, such as `[a-e]`, do not work in loops' conditions. `*` and `?` work\n",
    "4. You can change file formats by introducing a new variable: `newfile=\"${file/%.fq/.fastq}\"`\n",
    "5. `tr` is not suitable for replacing characters to ''. Use `sed` instead"
   ]
  },
  {
   "cell_type": "code",
   "execution_count": null,
   "metadata": {},
   "outputs": [],
   "source": []
  }
 ],
 "metadata": {
  "kernelspec": {
   "display_name": "Python 3",
   "language": "python",
   "name": "python3"
  },
  "language_info": {
   "codemirror_mode": {
    "name": "ipython",
    "version": 3
   },
   "file_extension": ".py",
   "mimetype": "text/x-python",
   "name": "python",
   "nbconvert_exporter": "python",
   "pygments_lexer": "ipython3",
   "version": "3.6.3"
  }
 },
 "nbformat": 4,
 "nbformat_minor": 4
}
