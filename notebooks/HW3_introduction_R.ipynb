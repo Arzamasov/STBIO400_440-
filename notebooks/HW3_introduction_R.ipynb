{
 "cells": [
  {
   "cell_type": "markdown",
   "metadata": {},
   "source": [
    "Before you turn this problem in, make sure everything runs as expected. First, **restart the kernel** (in the menubar, select Kernel$\\rightarrow$Restart) and then **run all cells** (in the menubar, select Cell$\\rightarrow$Run All).\n",
    "\n",
    "Make sure you fill in any place that says `YOUR CODE HERE` or \"YOUR ANSWER HERE\", as well as your name and collaborators below:"
   ]
  },
  {
   "cell_type": "code",
   "execution_count": 1,
   "metadata": {},
   "outputs": [],
   "source": [
    "NAME = \"Alex Arzamasov\"\n",
    "COLLABORATORS = \"Brianna Fernandez, Xiaohe Lin\""
   ]
  },
  {
   "cell_type": "markdown",
   "metadata": {},
   "source": [
    "---"
   ]
  },
  {
   "cell_type": "markdown",
   "metadata": {
    "deletable": false,
    "editable": false,
    "nbgrader": {
     "cell_type": "markdown",
     "checksum": "a97e062533deec2ec923061df98f5c25",
     "grade": false,
     "grade_id": "context_1",
     "locked": true,
     "schema_version": 3,
     "solution": false,
     "task": false
    }
   },
   "source": [
    "# Homework 3: Introduction to R\n",
    "Curated by Sabah Ul-Hasan, Huitian Dao, Shang-Fu Chen, and Andrew Su\n",
    "\n",
    "Complete homework is due every Tuesday at 8 AM PST.\n",
    "Save your homework as you go, so the efforts don't get lost.\n",
    "Note there are up 12 points, but you can only receive 10 points total for homework.\n",
    "\n",
    "In this assignment, you will <br>\n",
    "A3.aa Solidfy your understanding of weeks 1-2 <br>\n",
    "A3.ab Execute basic commands in R using Jupyter notebook <br>\n",
    "A3.ba Execute operations onto objects in R using Jupyter notebook <br>\n",
    "A3.bb Solidfy your understanding of R by practice\n",
    "\n",
    "Note that there is a section at the end (A3.bb) to point out any enhancements you personally would make to this assignment if you were to lead the course. \n",
    "\n",
    "<font color = 'red' size = \"4\"><b>NOTE: Execute the code cell below to import the `testthat` library before you started working on the questions.</b></font>"
   ]
  },
  {
   "cell_type": "code",
   "execution_count": 2,
   "metadata": {
    "deletable": false,
    "editable": false,
    "nbgrader": {
     "cell_type": "code",
     "checksum": "8d5cb778d0ebadeed31052211a5e971b",
     "grade": false,
     "grade_id": "library",
     "locked": true,
     "schema_version": 3,
     "solution": false,
     "task": false
    }
   },
   "outputs": [],
   "source": [
    "# Import the required R library for test case and autograding\n",
    "library(testthat)"
   ]
  },
  {
   "cell_type": "markdown",
   "metadata": {
    "deletable": false,
    "editable": false,
    "nbgrader": {
     "cell_type": "markdown",
     "checksum": "475708899c4877266a339dabd6444a63",
     "grade": false,
     "grade_id": "context_2",
     "locked": true,
     "schema_version": 3,
     "solution": false,
     "task": false
    }
   },
   "source": [
    "### A3.aa: Solidfy knowledge gained by teaching and troubleshooting [20-30 min] Group of 3 \n",
    "1. Code review: Take turns briefly talking through your code and process (3-5 min), then spend the remaining time discussing the different approaches you may have taken to get to the same end-goal. What were the interesting aspects you learned from each other? Share your notes below. \n",
    "2. For the last 5 minutes on your own, think of a suggestion of something you would've liked to learn in relation to these topics that we didn't cover."
   ]
  },
  {
   "cell_type": "markdown",
   "metadata": {},
   "source": [
    "1. -`awk` pattern `\"NR%4==2\"` for printing every fourth line starting line two\n",
    "   - `for` loops vs `parallel`\n",
    "\n",
    "\n",
    "2. - More information on `awk` extensions, for example, `bioawk`\n",
    "   - Using `parallel` for creating loops\n",
    "   - Using conditions in bash loops\n",
    "    \n"
   ]
  },
  {
   "cell_type": "markdown",
   "metadata": {
    "deletable": false,
    "editable": false,
    "nbgrader": {
     "cell_type": "markdown",
     "checksum": "f8b9d93c86d47fabdf4eacfb921698c0",
     "grade": false,
     "grade_id": "context_3",
     "locked": true,
     "schema_version": 3,
     "solution": false,
     "task": false
    }
   },
   "source": [
    "### A3.ab: Execute basic commands in R using Jupyter notebook [20-30 min] Individual\n",
    "#### ab.i Understanding R and syntax<br>"
   ]
  },
  {
   "cell_type": "markdown",
   "metadata": {
    "deletable": false,
    "editable": false,
    "nbgrader": {
     "cell_type": "markdown",
     "checksum": "7dcddbeb817e3a11ad1a5ca0ae5406a6",
     "grade": false,
     "grade_id": "why_R",
     "locked": true,
     "schema_version": 3,
     "solution": false,
     "task": false
    }
   },
   "source": [
    "### Question 1 (1 point)\n",
    "\n",
    "- Why are we using R compared to other languages we've learned (bash, and some python)? What is its utility in the context of biology and applied bioinformatics? Include observations about kernel usages.\n",
    "- Why are we using R in Jupyter notebook vs running basic R on its own or in RStudio? Briefly describe the distinctions between each of these, and their utility."
   ]
  },
  {
   "cell_type": "markdown",
   "metadata": {
    "deletable": false,
    "nbgrader": {
     "cell_type": "markdown",
     "checksum": "11fa56b22ed43b8775b9ac0ec09e7495",
     "grade": true,
     "grade_id": "why_jupyteR_answer",
     "locked": false,
     "points": 0,
     "schema_version": 3,
     "solution": true,
     "task": false
    }
   },
   "source": [
    "1. Because R has many packages for biological data (e.g., RNA-seq data) analysis. Overall, R is widely used for statistical analysis and data visualization (ggplot)\n",
    "2. Jupiter notebook is perfect for combining code with text (markdown) and graphic outputs, which is great for reproducibility. Jupiter notebook also allows switching to bash and python code. Rstudio is more convenient for working strictly with R code because it has more debug options, and, in my opinion, it is easier to work with objects and libraries there"
   ]
  },
  {
   "cell_type": "markdown",
   "metadata": {
    "deletable": false,
    "editable": false,
    "nbgrader": {
     "cell_type": "markdown",
     "checksum": "41097830e14f3780273298903b84f7ab",
     "grade": false,
     "grade_id": "R_objects",
     "locked": true,
     "schema_version": 3,
     "solution": false,
     "task": false
    }
   },
   "source": [
    "### Question 2 (1 point)\n",
    "\n",
    "Describe what is meant by an 'R object'. For the different basic data types, give an example of each data type from a real situation in your own research."
   ]
  },
  {
   "cell_type": "markdown",
   "metadata": {
    "deletable": false,
    "nbgrader": {
     "cell_type": "markdown",
     "checksum": "cc564526ecc33a4575a544b4784638c2",
     "grade": true,
     "grade_id": "R_objects_answer",
     "locked": false,
     "points": 1,
     "schema_version": 3,
     "solution": true,
     "task": false
    }
   },
   "source": [
    "An object is a data structure having some attributes and methods which act on its attributes. Common data types in R:\n",
    "1. scalar - gene names\n",
    "2. vector - DNA/protein sequence\n",
    "3. dataframe - table with blast results"
   ]
  },
  {
   "cell_type": "markdown",
   "metadata": {
    "deletable": false,
    "editable": false,
    "nbgrader": {
     "cell_type": "markdown",
     "checksum": "2d29dd4e36147ca5b171165fddeab938",
     "grade": false,
     "grade_id": "context_4",
     "locked": true,
     "schema_version": 3,
     "solution": false,
     "task": false
    }
   },
   "source": [
    "#### ab.ii Practicing R syntax<br>"
   ]
  },
  {
   "cell_type": "markdown",
   "metadata": {
    "deletable": false,
    "editable": false,
    "nbgrader": {
     "cell_type": "markdown",
     "checksum": "369aca93b1301451b41bdc0147cd18b1",
     "grade": false,
     "grade_id": "R_hello_world",
     "locked": true,
     "points": 0,
     "schema_version": 3,
     "solution": false,
     "task": true
    }
   },
   "source": [
    "### Question 3 (1 point)\n",
    "\n",
    "Assign the phrase \"Hello, world!\" to a string object with variable name `phrase`. Print the `phrase`, and identify the type of `phrase`.  _(Hint: use `print()` and `class()`)_\n"
   ]
  },
  {
   "cell_type": "code",
   "execution_count": 3,
   "metadata": {
    "deletable": false,
    "nbgrader": {
     "cell_type": "code",
     "checksum": "8422e98e44f86c1de297d83ffe4ae96a",
     "grade": false,
     "grade_id": "R_hello_world_answer",
     "locked": false,
     "schema_version": 3,
     "solution": true,
     "task": false
    }
   },
   "outputs": [
    {
     "name": "stdout",
     "output_type": "stream",
     "text": [
      "[1] \"Hello, world!\"\n"
     ]
    },
    {
     "data": {
      "text/html": [
       "'character'"
      ],
      "text/latex": [
       "'character'"
      ],
      "text/markdown": [
       "'character'"
      ],
      "text/plain": [
       "[1] \"character\""
      ]
     },
     "metadata": {},
     "output_type": "display_data"
    }
   ],
   "source": [
    "phrase <- \"Hello, world!\"\n",
    "print(phrase)\n",
    "class(phrase)"
   ]
  },
  {
   "cell_type": "code",
   "execution_count": 4,
   "metadata": {
    "deletable": false,
    "editable": false,
    "nbgrader": {
     "cell_type": "code",
     "checksum": "21642ccd1f36247d8bd85e6e3d75ac94",
     "grade": true,
     "grade_id": "R_hello_world_test",
     "locked": true,
     "points": 1,
     "schema_version": 3,
     "solution": false,
     "task": false
    }
   },
   "outputs": [],
   "source": [
    "test_that(\"value for phrase should be a string (type 'character' in R)\", {\n",
    "    expect_that(phrase, is_a(\"character\"))\n",
    "})\n",
    "test_that(\"value for phrase should be 13 characters long\", {\n",
    "    expect_that(nchar(phrase) == 13, is_true())\n",
    "})"
   ]
  },
  {
   "cell_type": "markdown",
   "metadata": {
    "deletable": false,
    "editable": false,
    "nbgrader": {
     "cell_type": "markdown",
     "checksum": "264cf222018a194f0cb05cd042b9568c",
     "grade": false,
     "grade_id": "R_wd",
     "locked": true,
     "points": 1,
     "schema_version": 3,
     "solution": false,
     "task": true
    }
   },
   "source": [
    "### Question 4 (1 point)\n",
    "\n",
    "Use R commands/functions to identify your current working directly, analogous to how we did this with bash. After you identify the current working directly, set it to our `data` folder. Include comments to describe what is happening at each step for an outside user.  _(Hint: understand the difference between `setwd()` and `getwd()`)_\n"
   ]
  },
  {
   "cell_type": "code",
   "execution_count": 5,
   "metadata": {
    "deletable": false,
    "nbgrader": {
     "cell_type": "code",
     "checksum": "cb384c51944f415f7dee3cea20df51cb",
     "grade": false,
     "grade_id": "R_wd_answer",
     "locked": false,
     "schema_version": 3,
     "solution": true,
     "task": false
    }
   },
   "outputs": [
    {
     "data": {
      "text/html": [
       "'/home_local/aarzamasov/HW3'"
      ],
      "text/latex": [
       "'/home\\_local/aarzamasov/HW3'"
      ],
      "text/markdown": [
       "'/home_local/aarzamasov/HW3'"
      ],
      "text/plain": [
       "[1] \"/home_local/aarzamasov/HW3\""
      ]
     },
     "metadata": {},
     "output_type": "display_data"
    },
    {
     "data": {
      "text/html": [
       "'/home_local/aarzamasov/HW3/data'"
      ],
      "text/latex": [
       "'/home\\_local/aarzamasov/HW3/data'"
      ],
      "text/markdown": [
       "'/home_local/aarzamasov/HW3/data'"
      ],
      "text/plain": [
       "[1] \"/home_local/aarzamasov/HW3/data\""
      ]
     },
     "metadata": {},
     "output_type": "display_data"
    }
   ],
   "source": [
    "# see the current directory\n",
    "getwd()\n",
    "# set the working directory to data\n",
    "setwd(\"/home_local/aarzamasov/HW3/data\")\n",
    "# see the new current directory\n",
    "getwd()"
   ]
  },
  {
   "cell_type": "markdown",
   "metadata": {
    "deletable": false,
    "editable": false,
    "nbgrader": {
     "cell_type": "markdown",
     "checksum": "05d9f658e4a3555d5dcd1a3ca91d7337",
     "grade": false,
     "grade_id": "context_5",
     "locked": true,
     "schema_version": 3,
     "solution": false,
     "task": false
    }
   },
   "source": [
    "#### ab.iii Developing good habits (on your own time)<br>"
   ]
  },
  {
   "cell_type": "markdown",
   "metadata": {
    "deletable": false,
    "editable": false,
    "nbgrader": {
     "cell_type": "markdown",
     "checksum": "e34c93e651d4f399bac71d9312c6e001",
     "grade": false,
     "grade_id": "extra_learn",
     "locked": true,
     "schema_version": 3,
     "solution": false,
     "task": false
    }
   },
   "source": [
    "### Question 5 (1 point)\n",
    "\n",
    "Follow and complete the two tutorials. Use this space to take notes of what you learned <br>\n",
    "https://swcarpentry.github.io/r-novice-inflammation/01-starting-with-data/index.html <br>\n",
    "https://swcarpentry.github.io/r-novice-inflammation/06-best-practices-R/\n",
    "\n",
    "Reflections: On an integer scale of `1-5`, `1` being very easy and `5` being the most difficult, where would you rank today's exercises? Provide brief notes on what was easy vs difficult, and why. <br>"
   ]
  },
  {
   "cell_type": "code",
   "execution_count": 6,
   "metadata": {},
   "outputs": [
    {
     "data": {
      "text/html": [
       "<table>\n",
       "<caption>A data.frame: 6 × 40</caption>\n",
       "<thead>\n",
       "\t<tr><th></th><th scope=col>V1</th><th scope=col>V2</th><th scope=col>V3</th><th scope=col>V4</th><th scope=col>V5</th><th scope=col>V6</th><th scope=col>V7</th><th scope=col>V8</th><th scope=col>V9</th><th scope=col>V10</th><th scope=col>⋯</th><th scope=col>V31</th><th scope=col>V32</th><th scope=col>V33</th><th scope=col>V34</th><th scope=col>V35</th><th scope=col>V36</th><th scope=col>V37</th><th scope=col>V38</th><th scope=col>V39</th><th scope=col>V40</th></tr>\n",
       "\t<tr><th></th><th scope=col>&lt;int&gt;</th><th scope=col>&lt;int&gt;</th><th scope=col>&lt;int&gt;</th><th scope=col>&lt;int&gt;</th><th scope=col>&lt;int&gt;</th><th scope=col>&lt;int&gt;</th><th scope=col>&lt;int&gt;</th><th scope=col>&lt;int&gt;</th><th scope=col>&lt;int&gt;</th><th scope=col>&lt;int&gt;</th><th scope=col>⋯</th><th scope=col>&lt;int&gt;</th><th scope=col>&lt;int&gt;</th><th scope=col>&lt;int&gt;</th><th scope=col>&lt;int&gt;</th><th scope=col>&lt;int&gt;</th><th scope=col>&lt;int&gt;</th><th scope=col>&lt;int&gt;</th><th scope=col>&lt;int&gt;</th><th scope=col>&lt;int&gt;</th><th scope=col>&lt;int&gt;</th></tr>\n",
       "</thead>\n",
       "<tbody>\n",
       "\t<tr><th scope=row>1</th><td>0</td><td>0</td><td>1</td><td>3</td><td>1</td><td>2</td><td>4</td><td>7</td><td>8</td><td>3</td><td>⋯</td><td> 4</td><td>4</td><td>5</td><td>7</td><td>3</td><td>4</td><td>2</td><td>3</td><td>0</td><td>0</td></tr>\n",
       "\t<tr><th scope=row>2</th><td>0</td><td>1</td><td>2</td><td>1</td><td>2</td><td>1</td><td>3</td><td>2</td><td>2</td><td>6</td><td>⋯</td><td> 3</td><td>5</td><td>4</td><td>4</td><td>5</td><td>5</td><td>1</td><td>1</td><td>0</td><td>1</td></tr>\n",
       "\t<tr><th scope=row>3</th><td>0</td><td>1</td><td>1</td><td>3</td><td>3</td><td>2</td><td>6</td><td>2</td><td>5</td><td>9</td><td>⋯</td><td>10</td><td>5</td><td>4</td><td>2</td><td>2</td><td>3</td><td>2</td><td>2</td><td>1</td><td>1</td></tr>\n",
       "\t<tr><th scope=row>4</th><td>0</td><td>0</td><td>2</td><td>0</td><td>4</td><td>2</td><td>2</td><td>1</td><td>6</td><td>7</td><td>⋯</td><td> 3</td><td>5</td><td>6</td><td>3</td><td>3</td><td>4</td><td>2</td><td>3</td><td>2</td><td>1</td></tr>\n",
       "\t<tr><th scope=row>5</th><td>0</td><td>1</td><td>1</td><td>3</td><td>3</td><td>1</td><td>3</td><td>5</td><td>2</td><td>4</td><td>⋯</td><td> 9</td><td>6</td><td>3</td><td>2</td><td>2</td><td>4</td><td>2</td><td>0</td><td>1</td><td>1</td></tr>\n",
       "\t<tr><th scope=row>6</th><td>0</td><td>0</td><td>1</td><td>2</td><td>2</td><td>4</td><td>2</td><td>1</td><td>6</td><td>4</td><td>⋯</td><td> 8</td><td>4</td><td>7</td><td>3</td><td>5</td><td>4</td><td>4</td><td>3</td><td>2</td><td>1</td></tr>\n",
       "</tbody>\n",
       "</table>\n"
      ],
      "text/latex": [
       "A data.frame: 6 × 40\n",
       "\\begin{tabular}{r|lllllllllllllllllllll}\n",
       "  & V1 & V2 & V3 & V4 & V5 & V6 & V7 & V8 & V9 & V10 & ⋯ & V31 & V32 & V33 & V34 & V35 & V36 & V37 & V38 & V39 & V40\\\\\n",
       "  & <int> & <int> & <int> & <int> & <int> & <int> & <int> & <int> & <int> & <int> & ⋯ & <int> & <int> & <int> & <int> & <int> & <int> & <int> & <int> & <int> & <int>\\\\\n",
       "\\hline\n",
       "\t1 & 0 & 0 & 1 & 3 & 1 & 2 & 4 & 7 & 8 & 3 & ⋯ &  4 & 4 & 5 & 7 & 3 & 4 & 2 & 3 & 0 & 0\\\\\n",
       "\t2 & 0 & 1 & 2 & 1 & 2 & 1 & 3 & 2 & 2 & 6 & ⋯ &  3 & 5 & 4 & 4 & 5 & 5 & 1 & 1 & 0 & 1\\\\\n",
       "\t3 & 0 & 1 & 1 & 3 & 3 & 2 & 6 & 2 & 5 & 9 & ⋯ & 10 & 5 & 4 & 2 & 2 & 3 & 2 & 2 & 1 & 1\\\\\n",
       "\t4 & 0 & 0 & 2 & 0 & 4 & 2 & 2 & 1 & 6 & 7 & ⋯ &  3 & 5 & 6 & 3 & 3 & 4 & 2 & 3 & 2 & 1\\\\\n",
       "\t5 & 0 & 1 & 1 & 3 & 3 & 1 & 3 & 5 & 2 & 4 & ⋯ &  9 & 6 & 3 & 2 & 2 & 4 & 2 & 0 & 1 & 1\\\\\n",
       "\t6 & 0 & 0 & 1 & 2 & 2 & 4 & 2 & 1 & 6 & 4 & ⋯ &  8 & 4 & 7 & 3 & 5 & 4 & 4 & 3 & 2 & 1\\\\\n",
       "\\end{tabular}\n"
      ],
      "text/markdown": [
       "\n",
       "A data.frame: 6 × 40\n",
       "\n",
       "| <!--/--> | V1 &lt;int&gt; | V2 &lt;int&gt; | V3 &lt;int&gt; | V4 &lt;int&gt; | V5 &lt;int&gt; | V6 &lt;int&gt; | V7 &lt;int&gt; | V8 &lt;int&gt; | V9 &lt;int&gt; | V10 &lt;int&gt; | ⋯ ⋯ | V31 &lt;int&gt; | V32 &lt;int&gt; | V33 &lt;int&gt; | V34 &lt;int&gt; | V35 &lt;int&gt; | V36 &lt;int&gt; | V37 &lt;int&gt; | V38 &lt;int&gt; | V39 &lt;int&gt; | V40 &lt;int&gt; |\n",
       "|---|---|---|---|---|---|---|---|---|---|---|---|---|---|---|---|---|---|---|---|---|---|\n",
       "| 1 | 0 | 0 | 1 | 3 | 1 | 2 | 4 | 7 | 8 | 3 | ⋯ |  4 | 4 | 5 | 7 | 3 | 4 | 2 | 3 | 0 | 0 |\n",
       "| 2 | 0 | 1 | 2 | 1 | 2 | 1 | 3 | 2 | 2 | 6 | ⋯ |  3 | 5 | 4 | 4 | 5 | 5 | 1 | 1 | 0 | 1 |\n",
       "| 3 | 0 | 1 | 1 | 3 | 3 | 2 | 6 | 2 | 5 | 9 | ⋯ | 10 | 5 | 4 | 2 | 2 | 3 | 2 | 2 | 1 | 1 |\n",
       "| 4 | 0 | 0 | 2 | 0 | 4 | 2 | 2 | 1 | 6 | 7 | ⋯ |  3 | 5 | 6 | 3 | 3 | 4 | 2 | 3 | 2 | 1 |\n",
       "| 5 | 0 | 1 | 1 | 3 | 3 | 1 | 3 | 5 | 2 | 4 | ⋯ |  9 | 6 | 3 | 2 | 2 | 4 | 2 | 0 | 1 | 1 |\n",
       "| 6 | 0 | 0 | 1 | 2 | 2 | 4 | 2 | 1 | 6 | 4 | ⋯ |  8 | 4 | 7 | 3 | 5 | 4 | 4 | 3 | 2 | 1 |\n",
       "\n"
      ],
      "text/plain": [
       "  V1 V2 V3 V4 V5 V6 V7 V8 V9 V10 ⋯ V31 V32 V33 V34 V35 V36 V37 V38 V39 V40\n",
       "1 0  0  1  3  1  2  4  7  8  3   ⋯  4  4   5   7   3   4   2   3   0   0  \n",
       "2 0  1  2  1  2  1  3  2  2  6   ⋯  3  5   4   4   5   5   1   1   0   1  \n",
       "3 0  1  1  3  3  2  6  2  5  9   ⋯ 10  5   4   2   2   3   2   2   1   1  \n",
       "4 0  0  2  0  4  2  2  1  6  7   ⋯  3  5   6   3   3   4   2   3   2   1  \n",
       "5 0  1  1  3  3  1  3  5  2  4   ⋯  9  6   3   2   2   4   2   0   1   1  \n",
       "6 0  0  1  2  2  4  2  1  6  4   ⋯  8  4   7   3   5   4   4   3   2   1  "
      ]
     },
     "metadata": {},
     "output_type": "display_data"
    },
    {
     "data": {
      "text/html": [
       "'data.frame'"
      ],
      "text/latex": [
       "'data.frame'"
      ],
      "text/markdown": [
       "'data.frame'"
      ],
      "text/plain": [
       "[1] \"data.frame\""
      ]
     },
     "metadata": {},
     "output_type": "display_data"
    },
    {
     "data": {
      "text/html": [
       "<style>\n",
       ".list-inline {list-style: none; margin:0; padding: 0}\n",
       ".list-inline>li {display: inline-block}\n",
       ".list-inline>li:not(:last-child)::after {content: \"\\00b7\"; padding: 0 .5ex}\n",
       "</style>\n",
       "<ol class=list-inline><li>60</li><li>40</li></ol>\n"
      ],
      "text/latex": [
       "\\begin{enumerate*}\n",
       "\\item 60\n",
       "\\item 40\n",
       "\\end{enumerate*}\n"
      ],
      "text/markdown": [
       "1. 60\n",
       "2. 40\n",
       "\n",
       "\n"
      ],
      "text/plain": [
       "[1] 60 40"
      ]
     },
     "metadata": {},
     "output_type": "display_data"
    },
    {
     "data": {
      "text/html": [
       "<table>\n",
       "<caption>A data.frame: 4 × 3</caption>\n",
       "<thead>\n",
       "\t<tr><th></th><th scope=col>V5</th><th scope=col>V6</th><th scope=col>V9</th></tr>\n",
       "\t<tr><th></th><th scope=col>&lt;int&gt;</th><th scope=col>&lt;int&gt;</th><th scope=col>&lt;int&gt;</th></tr>\n",
       "</thead>\n",
       "<tbody>\n",
       "\t<tr><th scope=row>1</th><td>1</td><td>2</td><td>8</td></tr>\n",
       "\t<tr><th scope=row>2</th><td>2</td><td>1</td><td>2</td></tr>\n",
       "\t<tr><th scope=row>3</th><td>3</td><td>2</td><td>5</td></tr>\n",
       "\t<tr><th scope=row>5</th><td>3</td><td>1</td><td>2</td></tr>\n",
       "</tbody>\n",
       "</table>\n"
      ],
      "text/latex": [
       "A data.frame: 4 × 3\n",
       "\\begin{tabular}{r|lll}\n",
       "  & V5 & V6 & V9\\\\\n",
       "  & <int> & <int> & <int>\\\\\n",
       "\\hline\n",
       "\t1 & 1 & 2 & 8\\\\\n",
       "\t2 & 2 & 1 & 2\\\\\n",
       "\t3 & 3 & 2 & 5\\\\\n",
       "\t5 & 3 & 1 & 2\\\\\n",
       "\\end{tabular}\n"
      ],
      "text/markdown": [
       "\n",
       "A data.frame: 4 × 3\n",
       "\n",
       "| <!--/--> | V5 &lt;int&gt; | V6 &lt;int&gt; | V9 &lt;int&gt; |\n",
       "|---|---|---|---|\n",
       "| 1 | 1 | 2 | 8 |\n",
       "| 2 | 2 | 1 | 2 |\n",
       "| 3 | 3 | 2 | 5 |\n",
       "| 5 | 3 | 1 | 2 |\n",
       "\n"
      ],
      "text/plain": [
       "  V5 V6 V9\n",
       "1 1  2  8 \n",
       "2 2  1  2 \n",
       "3 3  2  5 \n",
       "5 3  1  2 "
      ]
     },
     "metadata": {},
     "output_type": "display_data"
    },
    {
     "data": {
      "image/png": "[encoded data removed]",
      "text/plain": [
       "plot without title"
      ]
     },
     "metadata": {
      "image/png": {
       "height": 420,
       "width": 420
      },
      "text/plain": {
       "height": 420,
       "width": 420
      }
     },
     "output_type": "display_data"
    }
   ],
   "source": [
    "setwd(\"/home_local/aarzamasov/HW3/rdata\")\n",
    "table1_df <- read.csv(file = \"inflammation-01.csv\", header = FALSE)\n",
    "head (table1_df)\n",
    "class(table1_df)\n",
    "dim(table1_df)\n",
    "table1_df[c(1:3,5), c(5:6,9)]\n",
    "avg_patient_inflammation_sd <- apply(table1_df, 2, sd)\n",
    "plot(avg_patient_inflammation_sd)"
   ]
  },
  {
   "cell_type": "markdown",
   "metadata": {
    "deletable": false,
    "nbgrader": {
     "cell_type": "markdown",
     "checksum": "8281ae315e7b3e02547c6a154e5f8382",
     "grade": true,
     "grade_id": "extra_learn_answer",
     "locked": false,
     "points": 1,
     "schema_version": 3,
     "solution": true,
     "task": false
    }
   },
   "source": [
    "2\n",
    "\n",
    "- Variables: 1) start variable names with lower case letters, 2) separate words in variable names with underscores, and 3) use only lowercase letters, underscores, and numbers in variable names\n",
    "- `apply` allows us to repeat a function on all of the rows (`MARGIN = 1`) or columns (`MARGIN = 2`) of a data frame\n",
    "- Start your code with an annotated description of what the code does\n",
    "- Load all of the packages that will be necessary to run your code (using `library()`)\n",
    "- When reading data from a file, define a variable early in your code that stores the path to that file\n",
    "- If you must use `setwd()`, it is best to put it at the top of the script to avoid problems\n",
    "- If you have written many functions, put them all in their own `.R file` and then `source` those files. `source` will define all of these functions so that your code can make use of them as needed"
   ]
  },
  {
   "cell_type": "markdown",
   "metadata": {
    "deletable": false,
    "editable": false,
    "nbgrader": {
     "cell_type": "markdown",
     "checksum": "e600420603cbb27891ed311b35933099",
     "grade": false,
     "grade_id": "context_6",
     "locked": true,
     "schema_version": 3,
     "solution": false,
     "task": false
    }
   },
   "source": [
    "### A3.ba: Execute operations onto objects in R using Jupyter notebook [20-30 min] TPS"
   ]
  },
  {
   "cell_type": "markdown",
   "metadata": {
    "deletable": false,
    "editable": false,
    "nbgrader": {
     "cell_type": "markdown",
     "checksum": "d4160fe359848fa0cbbe5c2f75e5a1af",
     "grade": false,
     "grade_id": "loop_weekday",
     "locked": true,
     "points": 1,
     "schema_version": 3,
     "solution": false,
     "task": true
    }
   },
   "source": [
    "### Question 6 (1 point)\n",
    "\n",
    "Make a vector containing days of the week, from Monday to Sunday. Use a for loop to print \"Hello world, it's Xday!\" for each day of the week. Comment on how this for loop may differ or compare to the loops created using bash. _(Hint: Save all of the prefixes to a list. Use a for-loop to iterate through the list. Compose the sentense by `cat()`, `paste()` or `paste0()` in each iteration and print it.)_\n"
   ]
  },
  {
   "cell_type": "code",
   "execution_count": 7,
   "metadata": {
    "deletable": false,
    "nbgrader": {
     "cell_type": "code",
     "checksum": "bdc4700a7c34eaf9bc677bd8e1c168a3",
     "grade": false,
     "grade_id": "loop_weekday_code",
     "locked": false,
     "schema_version": 3,
     "solution": true,
     "task": false
    }
   },
   "outputs": [
    {
     "name": "stdout",
     "output_type": "stream",
     "text": [
      "[1] \"Hello world, it's Monday!\"\n",
      "[1] \"Hello world, it's Tuesday!\"\n",
      "[1] \"Hello world, it's Wednesday!\"\n",
      "[1] \"Hello world, it's Thursday!\"\n",
      "[1] \"Hello world, it's Friday!\"\n",
      "[1] \"Hello world, it's Saturday!\"\n",
      "[1] \"Hello world, it's Sunday!\"\n"
     ]
    }
   ],
   "source": [
    "# the syntax of for loops in R is a bit different than in bash; specifically the way how you adress the variable values\n",
    "days_vct <- c(\"Monday\", \"Tuesday\", \"Wednesday\", \"Thursday\", \"Friday\", \"Saturday\", \"Sunday\")\n",
    "for (i in days_vct){\n",
    "    print(paste0(\"Hello world, it's \", i, \"!\"))\n",
    "    }"
   ]
  },
  {
   "cell_type": "markdown",
   "metadata": {
    "deletable": false,
    "editable": false,
    "nbgrader": {
     "cell_type": "markdown",
     "checksum": "377f64db8a8660c618e9d144b82e83e5",
     "grade": false,
     "grade_id": "create_matrix",
     "locked": true,
     "points": 1,
     "schema_version": 3,
     "solution": false,
     "task": true
    }
   },
   "source": [
    "### Question 7 (1 point)\n",
    "\n",
    "Create a 10 $\\times$ 5 matrix (ten by five; 10 rows and 5 columns) named `my.matrix` including 50 numbers by `matrix()`. Then print it.\n"
   ]
  },
  {
   "cell_type": "code",
   "execution_count": 8,
   "metadata": {
    "deletable": false,
    "nbgrader": {
     "cell_type": "code",
     "checksum": "efc62dfa89d6e815bb94aa0deac6c29d",
     "grade": false,
     "grade_id": "create_matrix_code",
     "locked": false,
     "schema_version": 3,
     "solution": true,
     "task": false
    }
   },
   "outputs": [
    {
     "name": "stdout",
     "output_type": "stream",
     "text": [
      "      [,1] [,2] [,3] [,4] [,5]\n",
      " [1,]    1   11   21   31   41\n",
      " [2,]    2   12   22   32   42\n",
      " [3,]    3   13   23   33   43\n",
      " [4,]    4   14   24   34   44\n",
      " [5,]    5   15   25   35   45\n",
      " [6,]    6   16   26   36   46\n",
      " [7,]    7   17   27   37   47\n",
      " [8,]    8   18   28   38   48\n",
      " [9,]    9   19   29   39   49\n",
      "[10,]   10   20   30   40   50\n"
     ]
    }
   ],
   "source": [
    "my.matrix <- matrix(1:50, nrow=10, ncol=5)\n",
    "print(my.matrix)"
   ]
  },
  {
   "cell_type": "code",
   "execution_count": 9,
   "metadata": {
    "deletable": false,
    "editable": false,
    "nbgrader": {
     "cell_type": "code",
     "checksum": "e352bc7a2d08506bdb65eb1e56ce863a",
     "grade": true,
     "grade_id": "create_matrix_test",
     "locked": true,
     "points": 1,
     "schema_version": 3,
     "solution": false,
     "task": false
    }
   },
   "outputs": [
    {
     "data": {
      "text/html": [
       "'row number of your answer is 10'"
      ],
      "text/latex": [
       "'row number of your answer is 10'"
      ],
      "text/markdown": [
       "'row number of your answer is 10'"
      ],
      "text/plain": [
       "[1] \"row number of your answer is 10\""
      ]
     },
     "metadata": {},
     "output_type": "display_data"
    },
    {
     "data": {
      "text/html": [
       "'column number of your answer is 5'"
      ],
      "text/latex": [
       "'column number of your answer is 5'"
      ],
      "text/markdown": [
       "'column number of your answer is 5'"
      ],
      "text/plain": [
       "[1] \"column number of your answer is 5\""
      ]
     },
     "metadata": {},
     "output_type": "display_data"
    }
   ],
   "source": [
    "paste0(\"row number of your answer is \", dim(my.matrix)[1])\n",
    "paste0(\"column number of your answer is \", dim(my.matrix)[2])\n",
    "\n",
    "test_that(\"type of my.matrix should be matrix\", {\n",
    "    expect_that(my.matrix, is_a(\"matrix\"), is_true())\n",
    "})"
   ]
  },
  {
   "cell_type": "markdown",
   "metadata": {
    "deletable": false,
    "editable": false,
    "nbgrader": {
     "cell_type": "markdown",
     "checksum": "7aeaca4765f10363d556fa6c529a5382",
     "grade": false,
     "grade_id": "pi",
     "locked": true,
     "points": 0,
     "schema_version": 3,
     "solution": false,
     "task": true
    }
   },
   "source": [
    "### Question 8 (1 point)\n",
    "\n",
    "_(Note: Retrieve digits of $\\pi$ from this [website](https://www.piday.org/million/))_  \n",
    "\n",
    "1. Count the number of even digits in the first 100 digits of $\\pi$ and save as `count` _( Hint: Get the string of the first 100 digits and then loop through each digit to check if the number could be divided by 2 with reminder equal to 0 - use `%%`)_\n",
    "1. Convert the first 100 digits of $\\pi$ into a $10 \\times 10$ integer matrix named `pi.100.mtx` (by column-major order, like the screenshot below)  _(Hint: Consider using `substr`, `strsplit`, `as.integer` and/or `unlist` -- what does each of these do?)_\n",
    "\n",
    "\n",
    "<img src=\"data/pi_100_mtx.png\" style=\"width: 400px;\">\n",
    "\n",
    "- In your answer, explain why we needed to retrieve $\\pi$ constant from the website above instead of getting the built-in constant `pi` from base R? What additional built-in constants are there in R? \n",
    "\n",
    "- Discuss and compare your scripts, troubelshoot together. What did you learn that you didn't already know from what you had tried?\n"
   ]
  },
  {
   "cell_type": "code",
   "execution_count": 10,
   "metadata": {
    "deletable": false,
    "nbgrader": {
     "cell_type": "code",
     "checksum": "d993f8ddeb0730a0ac4d46b10496eed8",
     "grade": false,
     "grade_id": "pi_code",
     "locked": false,
     "schema_version": 3,
     "solution": true,
     "task": false
    }
   },
   "outputs": [
    {
     "name": "stdout",
     "output_type": "stream",
     "text": [
      "[1] 51\n",
      "      [,1] [,2] [,3] [,4] [,5] [,6] [,7] [,8] [,9] [,10]\n",
      " [1,]    3    5    6    9    1    0    4    4    9     5\n",
      " [2,]    1    8    2    5    6    5    5    0    8     3\n",
      " [3,]    4    9    6    0    9    8    9    6    6     4\n",
      " [4,]    1    7    4    2    3    2    2    2    2     2\n",
      " [5,]    5    9    3    8    9    0    3    8    8     1\n",
      " [6,]    9    3    3    8    9    9    0    6    0     1\n",
      " [7,]    2    2    8    4    3    7    7    2    3     7\n",
      " [8,]    6    3    3    1    7    4    8    0    4     0\n",
      " [9,]    5    8    2    9    5    9    1    8    8     6\n",
      "[10,]    3    4    7    7    1    4    6    9    2     7\n"
     ]
    }
   ],
   "source": [
    "pi_str <- \"31415926535897932384626433832795028841971693993751058209749445923078164062862089986280348253421170679821480865132823066470938446095505822317253594081284811174502841027019385211055596446229489549303819644288109756659334461284756482337867831652712019091456485669234603486104543266482133936072602491412737245870066063155881748815209209628292540917153643678925903\"\n",
    "pi_vct <- unlist(strsplit(pi_str,\"\"))\n",
    "pi_vct100 <- as.integer(pi_vct[1:100])\n",
    "pi.100.mtx <- matrix(pi_vct100, ncol = 10, byrow = FALSE)\n",
    "even <- c()\n",
    "for (i in pi_vct100){\n",
    "    if (i %% 2 == 0) {\n",
    "        even <- c(even, i)\n",
    "    }\n",
    "}\n",
    "count = length(even)\n",
    "print(count)\n",
    "print(pi.100.mtx)\n",
    "\n",
    "# built-in constant pi has only a small amount of digits; other built-in constatnts include letters and month names\n",
    "# learned strsplit and unlist"
   ]
  },
  {
   "cell_type": "code",
   "execution_count": 11,
   "metadata": {
    "deletable": false,
    "editable": false,
    "nbgrader": {
     "cell_type": "code",
     "checksum": "4e8d957837ac418b4b1d6bb8e1defe37",
     "grade": true,
     "grade_id": "pi_test_1",
     "locked": true,
     "points": 1,
     "schema_version": 3,
     "solution": false,
     "task": false
    }
   },
   "outputs": [],
   "source": [
    "test_that(\"the count number should be an integer between 45 and 55\", {\n",
    "    expect_that(count >= 45 & count <= 55, is_true())\n",
    "})"
   ]
  },
  {
   "cell_type": "code",
   "execution_count": 12,
   "metadata": {
    "deletable": false,
    "editable": false,
    "nbgrader": {
     "cell_type": "code",
     "checksum": "f5cffbdb7a3ae528359deffe0efba9c7",
     "grade": true,
     "grade_id": "pi_test_2",
     "locked": true,
     "points": 1,
     "schema_version": 3,
     "solution": false,
     "task": false
    }
   },
   "outputs": [],
   "source": [
    "test_that(\"the count number should be a matrix\", {\n",
    "    expect_that(pi.100.mtx, is_a(\"matrix\"))\n",
    "})\n",
    "test_that(\"the matrix should be 10 by 10\", {\n",
    "    expect_that(identical(dim(pi.100.mtx), as.integer(c(10, 10))), is_true())\n",
    "})\n",
    "test_that(\"check the first column\", {\n",
    "    expect_that(identical(as.vector(pi.100.mtx[1:10]), as.integer(c(3, 1, 4, 1, 5, 9, 2, 6, 5, 3))), is_true())\n",
    "})"
   ]
  },
  {
   "cell_type": "markdown",
   "metadata": {
    "deletable": false,
    "editable": false,
    "nbgrader": {
     "cell_type": "markdown",
     "checksum": "c56716f3794ee5a8241fb07f47c36e10",
     "grade": false,
     "grade_id": "context_7",
     "locked": true,
     "schema_version": 3,
     "solution": false,
     "task": false
    }
   },
   "source": [
    "### A3.bb Solidfy your understanding of R by practice [20-30 min] Individual\n"
   ]
  },
  {
   "cell_type": "markdown",
   "metadata": {
    "deletable": false,
    "editable": false,
    "nbgrader": {
     "cell_type": "markdown",
     "checksum": "558ed524ad740758a4ead62cd4823a03",
     "grade": false,
     "grade_id": "animal_info",
     "locked": true,
     "points": 0,
     "schema_version": 3,
     "solution": false,
     "task": true
    }
   },
   "source": [
    "### Question 9 (1 point)\n",
    "\n",
    "Re-create a dataframe `exp.animals` to record information for an animal experiment as below. Comment your code at each step to describe what's happening.  \n",
    "\n",
    "__NOTE:__ Assign the column of the dataframe with proper header and be careful to check the type of each column. Make the sex of animals a nominal variable by `factor()` or `as.factor()`.  \n",
    "\n",
    "<img src=\"data/animal_info.png\" style=\"width: 300px;\">\n"
   ]
  },
  {
   "cell_type": "code",
   "execution_count": 13,
   "metadata": {
    "deletable": false,
    "nbgrader": {
     "cell_type": "code",
     "checksum": "f26e0476d0657c25f6a2f07588c10fdc",
     "grade": false,
     "grade_id": "animal_info_code",
     "locked": false,
     "schema_version": 3,
     "solution": true,
     "task": false
    }
   },
   "outputs": [
    {
     "data": {
      "text/html": [
       "<table>\n",
       "<caption>A data.frame: 8 × 5</caption>\n",
       "<thead>\n",
       "\t<tr><th scope=col>Name</th><th scope=col>Number</th><th scope=col>Weight</th><th scope=col>Treatment</th><th scope=col>Sex</th></tr>\n",
       "\t<tr><th scope=col>&lt;fct&gt;</th><th scope=col>&lt;int&gt;</th><th scope=col>&lt;dbl&gt;</th><th scope=col>&lt;lgl&gt;</th><th scope=col>&lt;fct&gt;</th></tr>\n",
       "</thead>\n",
       "<tbody>\n",
       "\t<tr><td>Fluf1</td><td>7103</td><td>19.3</td><td> TRUE</td><td>Female</td></tr>\n",
       "\t<tr><td>Fluf2</td><td>7104</td><td>18.1</td><td> TRUE</td><td>Female</td></tr>\n",
       "\t<tr><td>Fluf3</td><td>7105</td><td>23.7</td><td>FALSE</td><td>Male  </td></tr>\n",
       "\t<tr><td>Fluf4</td><td>7106</td><td>22.9</td><td>FALSE</td><td>Male  </td></tr>\n",
       "\t<tr><td>Fluf5</td><td>7107</td><td>17.4</td><td> TRUE</td><td>Female</td></tr>\n",
       "\t<tr><td>Fluf6</td><td>7108</td><td>18.2</td><td>FALSE</td><td>Female</td></tr>\n",
       "\t<tr><td>Fluf7</td><td>7109</td><td>21.0</td><td> TRUE</td><td>Male  </td></tr>\n",
       "\t<tr><td>Fluf8</td><td>7110</td><td>20.5</td><td>FALSE</td><td>Male  </td></tr>\n",
       "</tbody>\n",
       "</table>\n"
      ],
      "text/latex": [
       "A data.frame: 8 × 5\n",
       "\\begin{tabular}{lllll}\n",
       " Name & Number & Weight & Treatment & Sex\\\\\n",
       " <fct> & <int> & <dbl> & <lgl> & <fct>\\\\\n",
       "\\hline\n",
       "\t Fluf1 & 7103 & 19.3 &  TRUE & Female\\\\\n",
       "\t Fluf2 & 7104 & 18.1 &  TRUE & Female\\\\\n",
       "\t Fluf3 & 7105 & 23.7 & FALSE & Male  \\\\\n",
       "\t Fluf4 & 7106 & 22.9 & FALSE & Male  \\\\\n",
       "\t Fluf5 & 7107 & 17.4 &  TRUE & Female\\\\\n",
       "\t Fluf6 & 7108 & 18.2 & FALSE & Female\\\\\n",
       "\t Fluf7 & 7109 & 21.0 &  TRUE & Male  \\\\\n",
       "\t Fluf8 & 7110 & 20.5 & FALSE & Male  \\\\\n",
       "\\end{tabular}\n"
      ],
      "text/markdown": [
       "\n",
       "A data.frame: 8 × 5\n",
       "\n",
       "| Name &lt;fct&gt; | Number &lt;int&gt; | Weight &lt;dbl&gt; | Treatment &lt;lgl&gt; | Sex &lt;fct&gt; |\n",
       "|---|---|---|---|---|\n",
       "| Fluf1 | 7103 | 19.3 |  TRUE | Female |\n",
       "| Fluf2 | 7104 | 18.1 |  TRUE | Female |\n",
       "| Fluf3 | 7105 | 23.7 | FALSE | Male   |\n",
       "| Fluf4 | 7106 | 22.9 | FALSE | Male   |\n",
       "| Fluf5 | 7107 | 17.4 |  TRUE | Female |\n",
       "| Fluf6 | 7108 | 18.2 | FALSE | Female |\n",
       "| Fluf7 | 7109 | 21.0 |  TRUE | Male   |\n",
       "| Fluf8 | 7110 | 20.5 | FALSE | Male   |\n",
       "\n"
      ],
      "text/plain": [
       "  Name  Number Weight Treatment Sex   \n",
       "1 Fluf1 7103   19.3    TRUE     Female\n",
       "2 Fluf2 7104   18.1    TRUE     Female\n",
       "3 Fluf3 7105   23.7   FALSE     Male  \n",
       "4 Fluf4 7106   22.9   FALSE     Male  \n",
       "5 Fluf5 7107   17.4    TRUE     Female\n",
       "6 Fluf6 7108   18.2   FALSE     Female\n",
       "7 Fluf7 7109   21.0    TRUE     Male  \n",
       "8 Fluf8 7110   20.5   FALSE     Male  "
      ]
     },
     "metadata": {},
     "output_type": "display_data"
    }
   ],
   "source": [
    "# create a vector containing info on names, convert to factors\n",
    "Name <- as.factor(c(\"Fluf1\", \"Fluf2\", \"Fluf3\", \"Fluf4\", \"Fluf5\", \"Fluf6\", \"Fluf7\", \"Fluf8\"))\n",
    "# create a vector containing info on numbers, convert to integers\n",
    "Number <- as.integer(c(7103, 7104, 7105, 7106, 7107, 7108, 7109, 7110))\n",
    "# create a vector containing info on weights (double by default)\n",
    "Weight <- c(19.3, 18.1, 23.7, 22.9, 17.4, 18.2, 21.0, 20.5)\n",
    "# create a vector containing info on treatments (logical by default)\n",
    "Treatment <- c(TRUE, TRUE, FALSE, FALSE, TRUE, FALSE, TRUE, FALSE)\n",
    "# create a vector containing info on sexes, convert to factors\n",
    "Sex <- as.factor(c(\"Female\", \"Female\", \"Male\", \"Male\", \"Female\", \"Female\", \"Male\", \"Male\"))\n",
    "# create a data frame from the vectors\n",
    "exp.animals <- data.frame(Name, Number, Weight, Treatment, Sex)\n",
    "exp.animals # display df"
   ]
  },
  {
   "cell_type": "code",
   "execution_count": 14,
   "metadata": {
    "deletable": false,
    "editable": false,
    "nbgrader": {
     "cell_type": "code",
     "checksum": "2050f8e7d2e5c0c29e441bda2aaf3a61",
     "grade": true,
     "grade_id": "animal_info_test",
     "locked": true,
     "points": 1,
     "schema_version": 3,
     "solution": false,
     "task": false
    }
   },
   "outputs": [],
   "source": [
    "# check column data type\n",
    "test_that(\"type of Name column should be factor\", {\n",
    "    expect_that(exp.animals$Name, is_a(\"factor\"))\n",
    "})\n",
    "test_that(\"type of Number column should be factor\", {\n",
    "    expect_that(exp.animals$Number, is_a(\"integer\"))\n",
    "})\n",
    "test_that(\"type of Weight column should be factor\", {\n",
    "    expect_that(exp.animals$Weight, is_a(\"numeric\"))\n",
    "})\n",
    "test_that(\"type of Treatment column should be factor\", {\n",
    "    expect_that(exp.animals$Treatment, is_a(\"logical\"))\n",
    "})\n",
    "test_that(\"type of Sex column should be factor\", {\n",
    "    expect_that(exp.animals$Sex, is_a(\"factor\"))\n",
    "})\n",
    "\n",
    "# check dataframe\n",
    "test_that(\"total number of female should be 4\", {\n",
    "    expect_that(summary(exp.animals$Sex)['Female'] == 4, is_true())\n",
    "})\n",
    "test_that(\"total number of female should be 4\", {\n",
    "    expect_that(summary(exp.animals$Sex)['Female'] == 4, is_true())\n",
    "})\n",
    "test_that(\"my.matrix should be 8 by 5\", {\n",
    "    expect_that(identical(dim(exp.animals), as.integer(c(8, 5))), is_true())\n",
    "})"
   ]
  },
  {
   "cell_type": "markdown",
   "metadata": {
    "deletable": false,
    "editable": false,
    "nbgrader": {
     "cell_type": "markdown",
     "checksum": "b6f1c744b5f1293ece6c66eb9605009e",
     "grade": false,
     "grade_id": "describe_structure",
     "locked": true,
     "points": 1,
     "schema_version": 3,
     "solution": false,
     "task": true
    }
   },
   "source": [
    "### Question 10 (1 point)\n",
    "\n",
    "Describe the structure of the dataframe `exp.animals` in Question 9 by script using `str()` for the full dataframe and `class()` for each column.  \n"
   ]
  },
  {
   "cell_type": "code",
   "execution_count": 15,
   "metadata": {
    "deletable": false,
    "nbgrader": {
     "cell_type": "code",
     "checksum": "3b80f0f0e242fe90629181f75bb2e7bb",
     "grade": false,
     "grade_id": "describe_structure_code",
     "locked": false,
     "schema_version": 3,
     "solution": true,
     "task": false
    }
   },
   "outputs": [
    {
     "name": "stdout",
     "output_type": "stream",
     "text": [
      "'data.frame':\t8 obs. of  5 variables:\n",
      " $ Name     : Factor w/ 8 levels \"Fluf1\",\"Fluf2\",..: 1 2 3 4 5 6 7 8\n",
      " $ Number   : int  7103 7104 7105 7106 7107 7108 7109 7110\n",
      " $ Weight   : num  19.3 18.1 23.7 22.9 17.4 18.2 21 20.5\n",
      " $ Treatment: logi  TRUE TRUE FALSE FALSE TRUE FALSE ...\n",
      " $ Sex      : Factor w/ 2 levels \"Female\",\"Male\": 1 1 2 2 1 1 2 2\n",
      "[1] \"factor\"\n",
      "[1] \"integer\"\n",
      "[1] \"numeric\"\n",
      "[1] \"logical\"\n",
      "[1] \"factor\"\n"
     ]
    }
   ],
   "source": [
    "str(exp.animals)\n",
    "for (i in colnames(exp.animals))\n",
    "    print(class(exp.animals[[i]]))"
   ]
  },
  {
   "cell_type": "markdown",
   "metadata": {
    "deletable": false,
    "editable": false,
    "nbgrader": {
     "cell_type": "markdown",
     "checksum": "1d1730b4d1158f61d756414159cf7016",
     "grade": false,
     "grade_id": "nutella",
     "locked": true,
     "points": 0,
     "schema_version": 3,
     "solution": false,
     "task": true
    }
   },
   "source": [
    "### Question 11 (1 point)\n",
    "\n",
    "Nutella needs to be fed with __5__ grams of rodent diet everyday. Create a for loop that will take a vector containing the weight of food that is given as `c(7,3,5,6,10,5,6)`. Print out the message if the food is \"more\", \"equal\" or \"less\" than the reference intake. Also, save logical constant `TRUE` to a logical vector named `food.enough` if the food is __no less then__ the reference intake, else `FALSE`. Comment out the code such that it's clear what's happening at each step.\n",
    "\n",
    "\n"
   ]
  },
  {
   "cell_type": "code",
   "execution_count": 16,
   "metadata": {
    "deletable": false,
    "nbgrader": {
     "cell_type": "code",
     "checksum": "a19e7a4d6d1436521d4367041b2210cc",
     "grade": false,
     "grade_id": "nutella_code",
     "locked": false,
     "schema_version": 3,
     "solution": true,
     "task": false
    }
   },
   "outputs": [
    {
     "name": "stdout",
     "output_type": "stream",
     "text": [
      "[1] \"more than the reference intake\"\n",
      "[1] \"less than the reference intake\"\n",
      "[1] \"equal to the reference intake\"\n",
      "[1] \"more than the reference intake\"\n",
      "[1] \"more than the reference intake\"\n",
      "[1] \"equal to the reference intake\"\n",
      "[1] \"more than the reference intake\"\n"
     ]
    },
    {
     "data": {
      "text/html": [
       "<style>\n",
       ".list-inline {list-style: none; margin:0; padding: 0}\n",
       ".list-inline>li {display: inline-block}\n",
       ".list-inline>li:not(:last-child)::after {content: \"\\00b7\"; padding: 0 .5ex}\n",
       "</style>\n",
       "<ol class=list-inline><li>TRUE</li><li>FALSE</li><li>TRUE</li><li>TRUE</li><li>TRUE</li><li>TRUE</li><li>TRUE</li></ol>\n"
      ],
      "text/latex": [
       "\\begin{enumerate*}\n",
       "\\item TRUE\n",
       "\\item FALSE\n",
       "\\item TRUE\n",
       "\\item TRUE\n",
       "\\item TRUE\n",
       "\\item TRUE\n",
       "\\item TRUE\n",
       "\\end{enumerate*}\n"
      ],
      "text/markdown": [
       "1. TRUE\n",
       "2. FALSE\n",
       "3. TRUE\n",
       "4. TRUE\n",
       "5. TRUE\n",
       "6. TRUE\n",
       "7. TRUE\n",
       "\n",
       "\n"
      ],
      "text/plain": [
       "[1]  TRUE FALSE  TRUE  TRUE  TRUE  TRUE  TRUE"
      ]
     },
     "metadata": {},
     "output_type": "display_data"
    }
   ],
   "source": [
    "# vector containing the weight of food\n",
    "food_weight <- c(7,3,5,6,10,5,6)\n",
    "# empty vector populated with logical values during the `for` cycle\n",
    "food.enough <- c()\n",
    "\n",
    "# cycle that goes through the each element of food_weight, prints the message and adds a logical value to food.enough based\n",
    "# on comparison with the reference intake\n",
    "for (i in food_weight){\n",
    " if (i > 5) {\n",
    "print(\"more than the reference intake\")\n",
    "food.enough <- c(food.enough, TRUE) \n",
    "} else if (i < 5) {\n",
    "print(\"less than the reference intake\")\n",
    "food.enough <- c(food.enough, FALSE) \n",
    "} else {\n",
    "print(\"equal to the reference intake\")\n",
    "food.enough <- c(food.enough, TRUE) \n",
    "}\n",
    "}\n",
    "food.enough # display your logical vector"
   ]
  },
  {
   "cell_type": "code",
   "execution_count": 17,
   "metadata": {
    "deletable": false,
    "editable": false,
    "nbgrader": {
     "cell_type": "code",
     "checksum": "617b0f737efa65b4fd402717a8d4e3c1",
     "grade": true,
     "grade_id": "cell-ddbb57bda0adc838",
     "locked": true,
     "points": 1,
     "schema_version": 3,
     "solution": false,
     "task": false
    }
   },
   "outputs": [],
   "source": [
    "test_that(\"type of food.enough should be logical\", {\n",
    "    expect_that(food.enough, is_a(\"logical\"))\n",
    "})\n",
    "test_that(\"length of the logical vector food.enough should be 7\", {\n",
    "    expect_that(length(food.enough) == 7, is_true())\n",
    "})"
   ]
  },
  {
   "cell_type": "markdown",
   "metadata": {
    "deletable": false,
    "editable": false,
    "nbgrader": {
     "cell_type": "markdown",
     "checksum": "5ca2faa0c88b12c457acb9a06ab4d264",
     "grade": false,
     "grade_id": "reflection_",
     "locked": true,
     "points": 1,
     "schema_version": 3,
     "solution": false,
     "task": true
    }
   },
   "source": [
    "### Question 12 (1 point)\n",
    "On an integer scale of `1-5`, `1` being very easy and `5` being the most difficult, where would you rank the A3.bb assignment and why? Include some notes about what you gained from this past week that you didn't know before as well as notes of things you already knew. _(Insert cell below for your answer.)_\n",
    "\n",
    "Improvements: Notice a [potentially intentional] mistake, or an area of this homework that could have been improved? Include your thoughts here. "
   ]
  },
  {
   "cell_type": "markdown",
   "metadata": {},
   "source": [
    "4/5. Question 8 was pretty hard\n",
    "- Loops (`for`) and conditions in R. NB: note the syntax of curvy brackets, it's different from bash and python\n",
    "- Best practices in R coding, very useful information\n",
    "- `strsplit()` and `unlist()`"
   ]
  },
  {
   "cell_type": "code",
   "execution_count": null,
   "metadata": {},
   "outputs": [],
   "source": []
  }
 ],
 "metadata": {
  "kernelspec": {
   "display_name": "R",
   "language": "R",
   "name": "ir"
  },
  "language_info": {
   "codemirror_mode": "r",
   "file_extension": ".r",
   "mimetype": "text/x-r-source",
   "name": "R",
   "pygments_lexer": "r",
   "version": "3.5.1"
  }
 },
 "nbformat": 4,
 "nbformat_minor": 4
}
