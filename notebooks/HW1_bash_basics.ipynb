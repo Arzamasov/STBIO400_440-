{
 "cells": [
  {
   "cell_type": "markdown",
   "metadata": {},
   "source": [
    "Before you turn this problem in, make sure everything runs as expected. First, **restart the kernel** (in the menubar, select Kernel$\\rightarrow$Restart) and then **run all cells** (in the menubar, select Cell$\\rightarrow$Run All).\n",
    "\n",
    "Make sure you fill in any place that says `YOUR CODE HERE` or \"YOUR ANSWER HERE\", as well as your name and collaborators below:"
   ]
  },
  {
   "cell_type": "code",
   "execution_count": 11,
   "metadata": {},
   "outputs": [],
   "source": [
    "NAME = \"Alex Arzamasov\"\n",
    "COLLABORATORS = \"\""
   ]
  },
  {
   "cell_type": "markdown",
   "metadata": {},
   "source": [
    "---"
   ]
  },
  {
   "cell_type": "markdown",
   "metadata": {
    "deletable": false,
    "editable": false,
    "nbgrader": {
     "cell_type": "markdown",
     "checksum": "f9f1f8cf4fb8e923fb2bbf30965332a7",
     "grade": false,
     "grade_id": "context_1",
     "locked": true,
     "schema_version": 3,
     "solution": false,
     "task": false
    }
   },
   "source": [
    "# Homework 1: Jupyter and Bash Basics\n",
    "Curated by Sabah Ul-Hasan, Karthik Gangavarapu, Shang-Fu Chen, Huitian Dao, and Andrew Su\n",
    "\n",
    "Complete homework is due every Tuesday at 8 AM PST.<br>\n",
    "Save your homework as you go, so the efforts don't get lost. <br>\n",
    "Note there are up 12 points, but you can only receive 10 points total for homework.\n",
    "\n",
    "In this assignment, you will <br>\n",
    "A1.aa Practice basic bash operations in terminal and functionality of Jupyter notebook (Python kernel)<br>\n",
    "A1.ab Execute basic operations of bash commands in Jupyter notebook <br>\n",
    "A1.ba Utilize bash for more sophisicated tasks, such as pipes <br>\n",
    "A1.bb Solidfy your understanding of bash by practice\n",
    "\n",
    "Note that there is a section at the end (A1.bb) to point out any enhancements you personally would make to this assignment if you were to lead the course. "
   ]
  },
  {
   "cell_type": "markdown",
   "metadata": {
    "deletable": false,
    "editable": false,
    "nbgrader": {
     "cell_type": "markdown",
     "checksum": "c74926563e6748f3a2e131c0855270af",
     "grade": false,
     "grade_id": "context_2",
     "locked": true,
     "schema_version": 3,
     "solution": false,
     "task": false
    }
   },
   "source": [
    "## A1.aa: Github and Jupyter notebook [20-30 min] Individual\n",
    "\n",
    "### aa.i Confirmation of Github account and download of data in Bioinformatics course repo  "
   ]
  },
  {
   "cell_type": "markdown",
   "metadata": {
    "deletable": false,
    "editable": false,
    "nbgrader": {
     "cell_type": "markdown",
     "checksum": "ac8f92ea24e2aafdbc979aa04cfa8886",
     "grade": false,
     "grade_id": "ls_pwd_cd_unzip",
     "locked": true,
     "points": 0,
     "schema_version": 3,
     "solution": false,
     "task": true
    }
   },
   "source": [
    "#### Question 1 (1 point)\n",
    "- Use command line to find and show where the `data.zip` file is located within `Question1` (using absolute path.)\n",
    "- Move it back to `HW1` at the same level with this notebook and then decompress it.\n",
    "- Copy out `fastq` folder to `HW1` folder.\n",
    "\n",
    "Did you find this folder?  \n",
    "- If yes, show the combination of commands you reach the folder below.\n",
    "- If no, type out any obstacles you encounter here.\n"
   ]
  },
  {
   "cell_type": "markdown",
   "metadata": {
    "deletable": false,
    "nbgrader": {
     "cell_type": "markdown",
     "checksum": "ebeb858f08fd1e257db17549e5154734",
     "grade": true,
     "grade_id": "ls_pwd_cd_unzip_answer",
     "locked": false,
     "points": 1,
     "schema_version": 3,
     "solution": true,
     "task": false
    }
   },
   "source": [
    "- `cd HW`\n",
    "- `find ./ -name data.zip`\n",
    "- `mv ./Question1/here/is/the/answer/data.zip ./`\n",
    "- `ls`\n",
    "- `unzip data.zip`\n",
    "- `cp -r ./data/fastq ./fastq`"
   ]
  },
  {
   "cell_type": "markdown",
   "metadata": {
    "deletable": false,
    "editable": false,
    "nbgrader": {
     "cell_type": "markdown",
     "checksum": "8ab9f1d0d27e24ef64ab4e749ea6cbcd",
     "grade": false,
     "grade_id": "context_3",
     "locked": true,
     "schema_version": 3,
     "solution": false,
     "task": false
    }
   },
   "source": [
    "\n",
    "### aa.ii Confirmation of basic Jupyter notebook operations <br>\n",
    "Use ```jupyter notebook``` to open _HW1_ in your browser. The notebook should be opened in the Notebook Editor as below (for more user interface information, see [the documentation](https://jupyter-notebook.readthedocs.io/en/stable/ui_components.html)):\n",
    "<img src=\"https://jupyter-notebook.readthedocs.io/en/stable/_images/jupyter-notebook-default.png\" style=\"width: 750px;\">\n",
    "\n",
    "Do you see the same screen as shared by the instructors? (Yes/No)"
   ]
  },
  {
   "cell_type": "markdown",
   "metadata": {
    "deletable": false,
    "editable": false,
    "nbgrader": {
     "cell_type": "markdown",
     "checksum": "03c4586a546c756a55705d7b0647b709",
     "grade": false,
     "grade_id": "run_2plus3",
     "locked": true,
     "schema_version": 3,
     "solution": false,
     "task": false
    }
   },
   "source": [
    "#### Question 2 (1 point)\n",
    "Run the cell with an output after typing `2+3`.\n",
    "\n",
    "a. Notice the different settings (ie Markdown). What do they mean? <br>\n",
    "b. Why did we need to install the R kernel, whereas Python 3 was automatically included? <br>\n",
    "c. What additional observations do you have of Jupyter notebook, and how it functions? Play around with it and take notes of your observations. Also, type out any obstacles you encounter here."
   ]
  },
  {
   "cell_type": "code",
   "execution_count": 12,
   "metadata": {
    "deletable": false,
    "nbgrader": {
     "cell_type": "code",
     "checksum": "0e3be8e22a7002d3f13f87420cc21a00",
     "grade": true,
     "grade_id": "run_2plus3_answer",
     "locked": false,
     "points": 1,
     "schema_version": 3,
     "solution": true,
     "task": false
    }
   },
   "outputs": [
    {
     "data": {
      "text/plain": [
       "5"
      ]
     },
     "execution_count": 12,
     "metadata": {},
     "output_type": "execute_result"
    }
   ],
   "source": [
    "2+3"
   ]
  },
  {
   "cell_type": "markdown",
   "metadata": {},
   "source": [
    "1. `Code` is for executable code, `Markdown` is for documentation\n",
    "2. Python 3 kernel comes together with Anaconda installation\n",
    "3. You can move and merge cells"
   ]
  },
  {
   "cell_type": "markdown",
   "metadata": {
    "deletable": false,
    "editable": false,
    "nbgrader": {
     "cell_type": "markdown",
     "checksum": "cef45d37457b6153208a04b63f757546",
     "grade": false,
     "grade_id": "cell-7c040f6c57dd2a26",
     "locked": true,
     "schema_version": 3,
     "solution": false,
     "task": false
    }
   },
   "source": [
    "## A1.ab: Execute basic bash commands in Python (using Jupyter) [20-30 min] TPS\n",
    "### ab.i Confirmation of basic bash operations <br>\n",
    "Usually, you would want to use command line in your terminal to run an R script for a given job/task. Here we are going to leverage the `%%bash` 'magic command' in the jupyter python kernel to execute bash commands in the notebok directly. More information on magic commands can be found in the [documentation of the python kernel](https://ipython.readthedocs.io/en/stable/interactive/magics.html). If you want to call bash commands using the R kernel, you will utilize the [`system`](https://www.rdocumentation.org/packages/base/versions/3.6.2/topics/system) function in R.\n",
    "\n",
    "For example to execute the `pwd` command in the python kernel, you will use, \n",
    "\n",
    "```\n",
    "%%bash\n",
    "pwd\n",
    "```\n",
    "\n",
    "To execute the same `pwd` command in the R kernel, you will use, \n",
    "\n",
    "```\n",
    "system('pwd', intern=TRUE)\n",
    "```\n",
    "\n",
    "In this notebook, we will **only be using the python kernel**. We are doing this because the syntax for bash is easier and more concise under python than R. We will switch to the R kernel, which you have already installed in the configuration instructions, starting Week 3."
   ]
  },
  {
   "cell_type": "markdown",
   "metadata": {
    "deletable": false,
    "editable": false,
    "nbgrader": {
     "cell_type": "markdown",
     "checksum": "9ba6f1ea00815c8671c5cb4d981dc2c8",
     "grade": false,
     "grade_id": "cell-c55032ae385a03ef",
     "locked": true,
     "schema_version": 3,
     "solution": false,
     "task": false
    }
   },
   "source": [
    "### ab.ii Continuation of basic bash operations <br>\n",
    "Use the basic command lines covered in lecture to walk through the following exercises"
   ]
  },
  {
   "cell_type": "markdown",
   "metadata": {
    "deletable": false,
    "editable": false,
    "nbgrader": {
     "cell_type": "markdown",
     "checksum": "10475989f2ad4070cc6d03c1ab2dfe8c",
     "grade": false,
     "grade_id": "cell-38caa9aecb01a4e0",
     "locked": true,
     "points": 1,
     "schema_version": 3,
     "solution": false,
     "task": true
    }
   },
   "source": [
    "#### Question 3 (1 point)\n",
    "Find and list the `artists.txt` file.  "
   ]
  },
  {
   "cell_type": "code",
   "execution_count": 13,
   "metadata": {
    "deletable": false,
    "nbgrader": {
     "cell_type": "code",
     "checksum": "209a25cd82719e385011818bd6b5bf1a",
     "grade": false,
     "grade_id": "cell-e335aad81b9fbd8f",
     "locked": false,
     "schema_version": 3,
     "solution": true,
     "task": false
    }
   },
   "outputs": [
    {
     "name": "stdout",
     "output_type": "stream",
     "text": [
      "data\n",
      "data.zip\n",
      "fastq\n",
      "HW1-Bash-Basics.ipynb\n",
      "new_folder\n",
      "Question1\n",
      "test\n",
      "./data/art/artists.txt\n",
      "KILIAN, Wolfgang\t(1581-1662)\tBaroque\tGerman graphic artist (Augsburg)\n",
      "KINSOEN, François-Joseph\t(1771-1839)\tRomanticism\tFlemish painter\n",
      "KISS, August Karl Edouard\t(1802-1865)\tRomanticism\tGerman sculptor\n",
      "KISS, Bálint\t(1802-1868)\tRomanticism\tHungarian painter (Pest)\n",
      "KLEINER, Salomon\t(1703-1761)\tBaroque\tGerman graphic artist\n",
      "KLENZE, Leo von\t(1784-1864)\tRomanticism\tGerman architect\n",
      "KLESECKER, Justus (see GLESKER, Justus)\t(c. 1615-1678)\tBaroque\tGerman sculptor (Franconia)\n",
      "KLINGER, Max\t(1857-1920)\tRealism\tGerman painter\n",
      "KLOCKER, Hans\t(active 1478-1500l)\tNorthern Renaissance\tAustrian sculptor (South Tyrol)\n",
      "KLODT, Mikhail Konstantinovich\t(c. 1832-1902)\tRealism\tRussian painter (St. Petersburg)\n",
      "KLODT, Pyotr Karlovich\t(1805-1867)\tRomanticism\tRussian sculptor (St. Petersburg)\n",
      "TACCA, Ferdinando\t(1619-c. 1688)\tBaroque\tItalian sculptor (Florence)\n",
      "TACCA, Pietro\t(1577-1640)\tBaroque\tItalian sculptor (Florence)\n",
      "TACCONE, Paolo (see PAOLO ROMANO)\t(c. 1415-c. 1470)\tEarly Renaissance\tItalian sculptor (Rome)\n",
      "TADDEO DI BARTOLO\t(1362/63-1422)\tMedieval\tItalian painter (Siena)\n",
      "TADDEO DI FERRARA (see CRIVELLI, Taddeo)\t(active 1451-c. 1479)\tEarly Renaissance\tItalian illuminator (Ferrara)\n",
      "TADOLINI, Scipione\t(1822-1892)\tRealism\tItalian sculptor (Rome)\n",
      "TALENTI, Francesco\t(c. 1300-after 1369)\tMedieval\tItalian architect (Florence)\n",
      "TALENTI, Simone\t(c. 1330-after 1383)\tMedieval\tItalian architect (Florence)\n",
      "TALPA, Bartolo\t(active c. 1495)\tEarly Renaissance\tItalian sculptor (Mantua)\n",
      "TAMAGNI, Vincenzo\t(1492-1530)\tHigh Renaissance\tItalian painter (San Gimignano)\n",
      "TAMAGNINO, Antonio (see PORTA, Antonio della)\t(active 1489–1519)\tEarly Renaissance\tItalian sculptor\n",
      "TAMM, Franz Werner von\t(1658-1724)\tBaroque\tGerman painter\n",
      "TANZIO DA VARALLO\t(c. 1580-c. 1632)\tBaroque\tItalian painter\n",
      "TARAVAL, Guillaume-Thomas-Raphaël\t(1701-1750)\tBaroque\tFrench painter (Stockholm)\n",
      "TARAVAL, Hugues\t(1729-1785)\tRococo\tFrench painter (Paris)\n",
      "TARAVAL, Louis-Gustave\t(1738-1794)\tNeoclassicism\tFrench graphic artist\n",
      "TARBELL, Edmund Charles\t(1862-1938)\tImpressionism\tAmerican painter\n",
      "TARCHIANI, Filippo\t(1576-1645)\tBaroque\tItalian painter (Florence)\n",
      "TARDIEU, Nicolas-Henry\t(1674-1749)\tBaroque\tFrench graphic artist (Paris)\n",
      "TARGONE, Cesare\t(active 1575-1590)\tMannerism\tItalian goldsmith\n",
      "TARSIA, Antonio\t(c. 1662-1739)\tBaroque\tAustrian sculptor (Venice)\n",
      "TARUFFI, Emilio\t(1633-1696)\tBaroque\tItalian painter (Bologna)\n",
      "TASSAERT, Jean-Pierre-Antoine\t(1727-1788)\tRococo\tFlemish sculptor\n",
      "TASSAERT, Octave\t(1800-1874)\tRomanticism\tFrench painter\n",
      "TASSEL, Jean\t(1608-1667)\tBaroque\tFrench painter (Langres)\n",
      "TASSI, Agostino\t(1578-1644)\tBaroque\tItalian painter (Rome)\n",
      "TAUNAY, Nicolas Antoine\t(1755-1830)\tRococo\tFrench painter\n",
      "TEDESCO, Carlo (see SFERINI, Carlo Leopoldo)\t(1652-1698)\tBaroque\tItalian painter (Verona)\n",
      "TEDESCO, Giovanni Paolo (see SCHOR, Johann Paul)\t(1615-1674)\tBaroque\tItalian painter (Rome)\n",
      "TEERLINC, Levina\tc. 1515-1576)\tMannerism\tFlemish miniaturist (London)\n",
      "TELEPY, Károly\t(1828-1906)\tRomanticism\tHungarian painter\n",
      "TEMANZA, Tommaso\t(1705-1789)\tRococo\tItalian architect (Venice)\n",
      "TEMPEL, Abraham van den\t(1622/23-1672)\tBaroque\tDutch painter (Amsterdam)\n",
      "TEMPESTA, Antonio\t(1555-1630)\tBaroque\tItalian painter (Florence)\n",
      "TEMPESTA, Pietro (see MULIER, Pieter the Younger)\t(1637-1701)\tBaroque\tDutch painter (Italy)\n",
      "TENERANI, Pietro\t(1789-1869)\tNeoclassicism\tItalian sculptor\n",
      "TENGNAGEL, Jan\t(1584-1635)\tBaroque\tDutch painter (Amsterdam)\n",
      "TENIERS, Abraham\t(1629-1670)\tBaroque\tFlemish painter (Antwerp)\n",
      "TENIERS, David the Elder\t(1582-1649)\tBaroque\tFlemish painter (Antwerp)\n",
      "TENIERS, David the Younger\t(1610-1690)\tBaroque\tFlemish painter (Antwerp)\n",
      "TERBORCH, Gerard\t(1617-1681)\tBaroque\tDutch painter (Deventer)\n",
      "TERBRUGGHEN, Hendrick\t(1588-1629)\tBaroque\tDutch painter (Utrecht)\n",
      "TERILLI, Francesco\t(active 1610-1630)\tBaroque\tItalian sculptor (Feltre)\n",
      "TERRENI, Giuseppe Maria\t(1739-1811)\tNeoclassicism\tItalian painter (Livorno)\n",
      "TERZIO, Francesco\t(c. 1523-1591)\tMannerism\tItalian painter (Vienna)\n",
      "TESSIN, Nicodemus the Elder\t(1615-1681)\tBaroque\tSwedish architect (Stockholm)\n",
      "TESSIN, Nicodemus the Younger\t(1654-1728)\tBaroque\tSwedish architect (Stockholm)\n",
      "TESTA, Pietro\t(1611-1650)\tBaroque\tItalian painter (Rome)\n",
      "TESTELIN, Henri\t(1616-1695)\tBaroque\tFrench painter\n",
      "TETRODE, Willem Danielsz van\t(c. 1525-c. 1587)\tMannerism\tNetherlandish sculptor\n",
      "KNEBEL, Franz\t(1809-1877)\tRomanticism\tSwiss painter (Rome)\n",
      "KNELLER, Sir Godfrey\t(1646-1723)\tBaroque\tEnglish painter\n",
      "KNIJFF, Jacob\t(1639-1681)\tBaroque\tDutch painter (London)\n",
      "KNIJFF, Wouter\t(c. 1607-after 1693)\tBaroque\tDutch painter (Haarlem)\n",
      "KNIP, Henriëtte\t(1821-1909)\tRealism\tDutch painter (Brussels)\n",
      "KNIP, Henriëtte Geertruida\t(1783-1842)\tRomanticism\tDutch painter\n",
      "KNIP, Josephus Augustus\t(1777-1847)\tRomanticism\tDutch painter\n",
      "KNIP, Mattheus Derk\t(1785-1845)\tRomanticism\tDutch painter\n",
      "KNIP, Nicolaas Frederik\t(1741-1808)\tRococo\tDutch painter\n",
      "KNOBELSDORFF, Georg Wenceslaus von\t(1699-1753)\tBaroque\tGerman architect (Berlin)\n",
      "KNOLLER, Martin\t(1725-1804)\tNeoclassicism\tAustrian painter (Italy)\n",
      "KNÜPFER, Nicolaus\t(c. 1603-1655)\tBaroque\tDutch painter\n",
      "KNYFF, Jacob (see KNIJFF, Jacob)\t(1639-1681)\tBaroque\tDutch painter (London)\n",
      "KNYFF, Wouter (see KNIJFF, Wouter)\t(c. 1607-after 1693)\tBaroque\tDutch painter (Haarlem)\n",
      "KOBELL, Franz\t(1749-1822)\tRococo\tGerman painter (Munich)\n",
      "KOBELL, Hendrik\t(1751-1779)\tRococo\tDutch painter (Rotterdam)\n",
      "KOBELL, Jan I\t(1755-1833)\tRococo\tDutch graphic artist (Rotterdam)\n",
      "KOBELL, Jan II\t(1778-1814)\tNeoclassicism\tDutch painter\n",
      "KOBELL, Wilhelm von\t(1766-1853)\tRomanticism\tGerman painter\n",
      "KOBERGER, Anton\t(c. 1440-1513)\tNorthern Renaissance\tGerman graphic artist (Nuremberg)\n",
      "KŘBKE, Christen\t(1810-1848)\tRomanticism\tDanish painter\n",
      "KOCH, Joseph Anton\t(1768-1839)\tRomanticism\tAustrian painter\n",
      "KOEBERGER, Wenzel (see COBERGHER, Wenceslas)\t(c. 1560-1634)\tBaroque\tFlemish architect\n",
      "KOEDIJCK, Isaack\t(c. 1617-c. 1668)\tBaroque\tDutch painter (Amsterdam)\n",
      "KOEKKOEK, Barend Cornelis\t(1803-1862)\tRomanticism\tDutch painter\n",
      "KOERBECKE, Johann\t(c. 1420-1490)\tNorthern Renaissance\tGerman painter (Münster)\n",
      "KOETS, Roelof\t(c. 1592-1655)\tBaroque\tDutch painter (Haarlem)\n",
      "KOKORINOV, Alexander Filippovich\t(1726-1772)\tBaroque\tRussian architect (St. Petersburg)\n",
      "KOLBE, Carl Wilhelm\t(1759-1835)\tNeoclassicism\tGerman painter\n",
      "KOLLONITSCH, Christian\t(1730-1802)\tRococo\tAustrian painter (Vienna)\n",
      "KOLUNIĆ, Martin (see ROTA, Martino)\t(c. 1520-1583)\tMannerism\tOther painter (Vienna)\n",
      "KOMPE, Jan ten (see COMPE, Jan ten)\t(1713-1761)\tBaroque\tDutch painter (Amsterdam)\n",
      "KÖNIG, Johann\t(1586-1642)\tBaroque\tGerman painter (Augsburg)\n",
      "KONINCK, Daniël de\t(1668-after 1720)\tBaroque\tDutch painter (London)\n",
      "KONINCK, David de (see CONINCK, David de)\t(c. 1644-c. 1701)\tBaroque\tFlemish painter\n",
      "KONINCK, Philips\t(1619-1688)\tBaroque\tDutch painter (Amsterdam)\n",
      "KONINCK, Salomon\t(1609-1656)\tBaroque\tDutch painter (Amsterdam)\n",
      "KONRAD von Soest\t(active 1394-1422)\tNorthern Renaissance\tGerman painter (Westphalie)\n",
      "KOPISCH, August\t(1799-1853)\tRomanticism\tGerman painter (Berlin)\n",
      "AACHEN, Hans von\t(1552-1615)\tMannerism\tGerman painter\n",
      "AAGAARD, Carl Frederik\t(1833-1895)\tRealism\tDanish painter (Copenhagen)\n",
      "ABADIA, Juan de la\t(active 1470-1490)\tEarly Renaissance\tSpanish painter (Huesca)\n",
      "ABAQUESNE, Masséot\t(c 1500-1564)\tHigh Renaissance\tFrench potter\n",
      "ABBATE, Niccolò dell'\t(1509-1571)\tMannerism\tItalian painter (Bologna)\n",
      "ABBATI, Giuseppe\t(1836-1868)\tRealism\tItalian painter\n",
      "ABBATINI, Guido Ubaldo\t(c. 1602-1656)\tBaroque\tItalian painter (Rome)\n",
      "ABBONDI, Antonio di Pietro (see SCARPAGNINO)\t(c. 1465-1549)\tHigh Renaissance\tItalian architect (Venice)\n",
      "ABEELE, Pieter van\t(1608-1684)\tBaroque\tDutch sculptor (Amsterdam)\n",
      "ABILDGAARD, Nicolai\t(1743-1809)\tRomanticism\tDanish painter\n",
      "ABONDIO, Antonio\t(1538-1591)\tMannerism\tItalian sculptor (Vienna)\n",
      "ACERO Y AREBO, Vicente\t(c. 1677-1739)\tBaroque\tSpanish architect\n",
      "ACHENBACH, Oswald\t(1827-1905)\tRealism\tGerman painter (Dusseldorf)\n",
      "ADAM, Albrecht\t(1786-1862)\tRomanticism\tGerman painter (Munich)\n",
      "ADAM, Lambert-Sigisbert\t(1700-1759)\tBaroque\tFrench sculptor (Nancy)\n",
      "ADAM, Nicolas-Sébastien\t(1705-1778)\tBaroque\tFrench sculptor (Nancy)\n",
      "ADAM, Robert\t(1728-1792)\tBaroque\tScottish architect (London)\n",
      "ADAM-SALOMON, Antoine-Samuel\t(1818-1881)\tRealism\tFrench sculptor (Paris)\n",
      "ADELCRANTZ, Carl Fredrik\t(1716-1796)\tNeoclassicism\tSwedish architect\n",
      "ADEMOLLO, Luigi\t(1764-1849)\tNeoclassicism\tItalian painter (Florence)\n",
      "ADLER, Salomon\t(1630-1709)\tBaroque\tGerman painter (Milan)\n",
      "ADOLFZOON, Christoph (see ADOLPHI, Christoffel)\t(c. 1631-1680)\tBaroque\tDutch sculptor (Amsterdam)\n",
      "ADOLPHI, Christoffel\t(c. 1631-1680)\tBaroque\tDutch sculptor (Amsterdam)\n",
      "ADRIAEN VAN UTRECHT (see UTRECHT, Adriaen van)\t(1599-1652)\tBaroque\tFlemish painter\n",
      "ADRIAENSSEN, Alexander\t(1587-1661)\tBaroque\tFlemish painter (Antwerp)\n",
      "ADRIANO FIORENTINO\t(ca. 1455-1499)\tEarly Renaissance\tItalian sculptor (Florence)\n",
      "AELST, Willem van\t(1627-c. 1683)\tBaroque\tDutch painter (Delft)\n",
      "AENVANCK, Theodoor\t(1633-1690)\tBaroque\tFlemish painter (Antwerp)\n",
      "AERT VAN ORT\t(active 1490-1536)\tNorthern Renaissance\tFlemish glass painter\n",
      "AERTSEN, Pieter\t(1508-1575)\tNorthern Renaissance\tNetherlandish painter (Amsterdam)\n",
      "AGASSE, Jacques-Laurent\t(1767-1849)\tNeoclassicism\tSwiss painter (London)\n",
      "AGNOLO DA SIENA (see AGNOLO DI VENTURA)\t(active 1311-1349)\tMedieval\tItalian sculptor (Siena)\n",
      "AGNOLO DI POLO\t(c. 1470-after 1498)\tEarly Renaissance\tItalian sculptor (Florence)\n",
      "AGNOLO DI VENTURA\t(active 1311-1349)\tMedieval\tItalian sculptor (Siena)\n",
      "AGOSTINO DI DUCCIO\t(1418-1481)\tEarly Renaissance\tItalian sculptor (Rimini)\n",
      "AGOSTINO DI GIOVANNI\t(active 1310-1347)\tMedieval\tItalian sculptor (Siena)\n",
      "AGOSTINO VENEZIANO (see MUSI, Agostino dei)\t(c. 1490-c. 1536)\tHigh Renaissance\tItalian graphic artist\n",
      "AGRATE, Gian Francesco Ferrari d'\t(1489-c. 1563)\tHigh Renaissance\tItalian sculptor (Parma)\n",
      "AGUADO LÓPEZ, Antonio\t(1764-1831)\tNeoclassicism\tSpanish architect (Madrid)\n",
      "AIVAZOVSKY, Ivan Konstantinovich\t(1817-1900)\tRealism\tRussian painter\n",
      "AKEN, Joseph van\t(c. 1699-1749)\tRococo\tFlemish painter (London)\n",
      "AKOTANTOS, Angelos\t(?-c. 1457)\tMedieval\tGreek painter (Crete)\n",
      "ALBA, Macrino d'\t(c. 1460-c. 1528)\tEarly Renaissance\tItalian painter (Alba)\n",
      "ALBANI, Francesco\t(1578-1660)\tBaroque\tItalian painter (Bologna)\n",
      "ALBEREGNO, Jacobello\t(died before1397)\tMedieval\tItalian painter (Venice)\n",
      "ALBERTI, Antonio\t(c. 1390-c. 1442)\tEarly Renaissance\tItalian painter (Urbino)\n",
      "ALBERTI, Cherubino\t(1553-1615)\tMannerism\tItalian painter (Rome)\n",
      "ALBERTI, Giovanni\t(1558-1601)\tMannerism\tItalian painter (Rome)\n",
      "ALBERTI, Leon Battista\t(1404-1472)\tEarly Renaissance\tItalian architect\n",
      "ALBERTINELLI, Mariotto\t(1474-1515)\tEarly Renaissance\tItalian painter (Florence)\n"
     ]
    }
   ],
   "source": [
    "%%bash\n",
    "ls\n",
    "find ./ -name artists.txt\n",
    "less ./data/art/artists.txt"
   ]
  },
  {
   "cell_type": "markdown",
   "metadata": {
    "deletable": false,
    "editable": false,
    "nbgrader": {
     "cell_type": "markdown",
     "checksum": "4b43afb83d9c781200dbab3b8e23cbde",
     "grade": false,
     "grade_id": "cell-7ec84fb290a57a6e",
     "locked": true,
     "points": 1,
     "schema_version": 3,
     "solution": false,
     "task": true
    }
   },
   "source": [
    "#### Question 4 (1 point)\n",
    "Count the number of artists in the file that are __not__ French. Print out this list.  \n",
    "_Note: Insert cells below for your code and answer._  \n",
    "\n",
    "Script your own task that includes 1-2 basic commands we haven't yet tried.  \n",
    "_Note: Insert cells below for your code and answer._"
   ]
  },
  {
   "cell_type": "code",
   "execution_count": 14,
   "metadata": {},
   "outputs": [
    {
     "name": "stdout",
     "output_type": "stream",
     "text": [
      "138\n",
      "134\n",
      "KILIAN, Wolfgang\t(1581-1662)\tBaroque\tGerman graphic artist (Augsburg)\n",
      "KINSOEN, François-Joseph\t(1771-1839)\tRomanticism\tFlemish painter\n",
      "KISS, August Karl Edouard\t(1802-1865)\tRomanticism\tGerman sculptor\n",
      "KISS, Bálint\t(1802-1868)\tRomanticism\tHungarian painter (Pest)\n",
      "KLEINER, Salomon\t(1703-1761)\tBaroque\tGerman graphic artist\n",
      "KLENZE, Leo von\t(1784-1864)\tRomanticism\tGerman architect\n",
      "KLESECKER, Justus (see GLESKER, Justus)\t(c. 1615-1678)\tBaroque\tGerman sculptor (Franconia)\n",
      "KLINGER, Max\t(1857-1920)\tRealism\tGerman painter\n",
      "KLOCKER, Hans\t(active 1478-1500l)\tNorthern Renaissance\tAustrian sculptor (South Tyrol)\n",
      "KLODT, Mikhail Konstantinovich\t(c. 1832-1902)\tRealism\tRussian painter (St. Petersburg)\n",
      "KLODT, Pyotr Karlovich\t(1805-1867)\tRomanticism\tRussian sculptor (St. Petersburg)\n",
      "TACCA, Ferdinando\t(1619-c. 1688)\tBaroque\tItalian sculptor (Florence)\n",
      "TACCA, Pietro\t(1577-1640)\tBaroque\tItalian sculptor (Florence)\n",
      "TACCONE, Paolo (see PAOLO ROMANO)\t(c. 1415-c. 1470)\tEarly Renaissance\tItalian sculptor (Rome)\n",
      "TADDEO DI BARTOLO\t(1362/63-1422)\tMedieval\tItalian painter (Siena)\n",
      "TADDEO DI FERRARA (see CRIVELLI, Taddeo)\t(active 1451-c. 1479)\tEarly Renaissance\tItalian illuminator (Ferrara)\n",
      "TADOLINI, Scipione\t(1822-1892)\tRealism\tItalian sculptor (Rome)\n",
      "TALENTI, Francesco\t(c. 1300-after 1369)\tMedieval\tItalian architect (Florence)\n",
      "TALENTI, Simone\t(c. 1330-after 1383)\tMedieval\tItalian architect (Florence)\n",
      "TALPA, Bartolo\t(active c. 1495)\tEarly Renaissance\tItalian sculptor (Mantua)\n",
      "TAMAGNI, Vincenzo\t(1492-1530)\tHigh Renaissance\tItalian painter (San Gimignano)\n",
      "TAMAGNINO, Antonio (see PORTA, Antonio della)\t(active 1489–1519)\tEarly Renaissance\tItalian sculptor\n",
      "TAMM, Franz Werner von\t(1658-1724)\tBaroque\tGerman painter\n",
      "TANZIO DA VARALLO\t(c. 1580-c. 1632)\tBaroque\tItalian painter\n",
      "TARBELL, Edmund Charles\t(1862-1938)\tImpressionism\tAmerican painter\n",
      "TARCHIANI, Filippo\t(1576-1645)\tBaroque\tItalian painter (Florence)\n",
      "TARGONE, Cesare\t(active 1575-1590)\tMannerism\tItalian goldsmith\n",
      "TARSIA, Antonio\t(c. 1662-1739)\tBaroque\tAustrian sculptor (Venice)\n",
      "TARUFFI, Emilio\t(1633-1696)\tBaroque\tItalian painter (Bologna)\n",
      "TASSAERT, Jean-Pierre-Antoine\t(1727-1788)\tRococo\tFlemish sculptor\n",
      "TASSI, Agostino\t(1578-1644)\tBaroque\tItalian painter (Rome)\n",
      "TEDESCO, Carlo (see SFERINI, Carlo Leopoldo)\t(1652-1698)\tBaroque\tItalian painter (Verona)\n",
      "TEDESCO, Giovanni Paolo (see SCHOR, Johann Paul)\t(1615-1674)\tBaroque\tItalian painter (Rome)\n",
      "TEERLINC, Levina\tc. 1515-1576)\tMannerism\tFlemish miniaturist (London)\n",
      "TELEPY, Károly\t(1828-1906)\tRomanticism\tHungarian painter\n",
      "TEMANZA, Tommaso\t(1705-1789)\tRococo\tItalian architect (Venice)\n",
      "TEMPEL, Abraham van den\t(1622/23-1672)\tBaroque\tDutch painter (Amsterdam)\n",
      "TEMPESTA, Antonio\t(1555-1630)\tBaroque\tItalian painter (Florence)\n",
      "TEMPESTA, Pietro (see MULIER, Pieter the Younger)\t(1637-1701)\tBaroque\tDutch painter (Italy)\n",
      "TENERANI, Pietro\t(1789-1869)\tNeoclassicism\tItalian sculptor\n",
      "TENGNAGEL, Jan\t(1584-1635)\tBaroque\tDutch painter (Amsterdam)\n",
      "TENIERS, Abraham\t(1629-1670)\tBaroque\tFlemish painter (Antwerp)\n",
      "TENIERS, David the Elder\t(1582-1649)\tBaroque\tFlemish painter (Antwerp)\n",
      "TENIERS, David the Younger\t(1610-1690)\tBaroque\tFlemish painter (Antwerp)\n",
      "TERBORCH, Gerard\t(1617-1681)\tBaroque\tDutch painter (Deventer)\n",
      "TERBRUGGHEN, Hendrick\t(1588-1629)\tBaroque\tDutch painter (Utrecht)\n",
      "TERILLI, Francesco\t(active 1610-1630)\tBaroque\tItalian sculptor (Feltre)\n",
      "TERRENI, Giuseppe Maria\t(1739-1811)\tNeoclassicism\tItalian painter (Livorno)\n",
      "TERZIO, Francesco\t(c. 1523-1591)\tMannerism\tItalian painter (Vienna)\n",
      "TESSIN, Nicodemus the Elder\t(1615-1681)\tBaroque\tSwedish architect (Stockholm)\n",
      "TESSIN, Nicodemus the Younger\t(1654-1728)\tBaroque\tSwedish architect (Stockholm)\n",
      "TESTA, Pietro\t(1611-1650)\tBaroque\tItalian painter (Rome)\n",
      "TETRODE, Willem Danielsz van\t(c. 1525-c. 1587)\tMannerism\tNetherlandish sculptor\n",
      "KNEBEL, Franz\t(1809-1877)\tRomanticism\tSwiss painter (Rome)\n",
      "KNELLER, Sir Godfrey\t(1646-1723)\tBaroque\tEnglish painter\n",
      "KNIJFF, Jacob\t(1639-1681)\tBaroque\tDutch painter (London)\n",
      "KNIJFF, Wouter\t(c. 1607-after 1693)\tBaroque\tDutch painter (Haarlem)\n",
      "KNIP, Henriëtte\t(1821-1909)\tRealism\tDutch painter (Brussels)\n",
      "KNIP, Henriëtte Geertruida\t(1783-1842)\tRomanticism\tDutch painter\n",
      "KNIP, Josephus Augustus\t(1777-1847)\tRomanticism\tDutch painter\n",
      "KNIP, Mattheus Derk\t(1785-1845)\tRomanticism\tDutch painter\n",
      "KNIP, Nicolaas Frederik\t(1741-1808)\tRococo\tDutch painter\n",
      "KNOBELSDORFF, Georg Wenceslaus von\t(1699-1753)\tBaroque\tGerman architect (Berlin)\n",
      "KNOLLER, Martin\t(1725-1804)\tNeoclassicism\tAustrian painter (Italy)\n",
      "KNÜPFER, Nicolaus\t(c. 1603-1655)\tBaroque\tDutch painter\n",
      "KNYFF, Jacob (see KNIJFF, Jacob)\t(1639-1681)\tBaroque\tDutch painter (London)\n",
      "KNYFF, Wouter (see KNIJFF, Wouter)\t(c. 1607-after 1693)\tBaroque\tDutch painter (Haarlem)\n",
      "KOBELL, Franz\t(1749-1822)\tRococo\tGerman painter (Munich)\n",
      "KOBELL, Hendrik\t(1751-1779)\tRococo\tDutch painter (Rotterdam)\n",
      "KOBELL, Jan I\t(1755-1833)\tRococo\tDutch graphic artist (Rotterdam)\n",
      "KOBELL, Jan II\t(1778-1814)\tNeoclassicism\tDutch painter\n",
      "KOBELL, Wilhelm von\t(1766-1853)\tRomanticism\tGerman painter\n",
      "KOBERGER, Anton\t(c. 1440-1513)\tNorthern Renaissance\tGerman graphic artist (Nuremberg)\n",
      "KŘBKE, Christen\t(1810-1848)\tRomanticism\tDanish painter\n",
      "KOCH, Joseph Anton\t(1768-1839)\tRomanticism\tAustrian painter\n",
      "KOEBERGER, Wenzel (see COBERGHER, Wenceslas)\t(c. 1560-1634)\tBaroque\tFlemish architect\n",
      "KOEDIJCK, Isaack\t(c. 1617-c. 1668)\tBaroque\tDutch painter (Amsterdam)\n",
      "KOEKKOEK, Barend Cornelis\t(1803-1862)\tRomanticism\tDutch painter\n",
      "KOERBECKE, Johann\t(c. 1420-1490)\tNorthern Renaissance\tGerman painter (Münster)\n",
      "KOETS, Roelof\t(c. 1592-1655)\tBaroque\tDutch painter (Haarlem)\n",
      "KOKORINOV, Alexander Filippovich\t(1726-1772)\tBaroque\tRussian architect (St. Petersburg)\n",
      "KOLBE, Carl Wilhelm\t(1759-1835)\tNeoclassicism\tGerman painter\n",
      "KOLLONITSCH, Christian\t(1730-1802)\tRococo\tAustrian painter (Vienna)\n",
      "KOLUNIĆ, Martin (see ROTA, Martino)\t(c. 1520-1583)\tMannerism\tOther painter (Vienna)\n",
      "KOMPE, Jan ten (see COMPE, Jan ten)\t(1713-1761)\tBaroque\tDutch painter (Amsterdam)\n",
      "KÖNIG, Johann\t(1586-1642)\tBaroque\tGerman painter (Augsburg)\n",
      "KONINCK, Daniël de\t(1668-after 1720)\tBaroque\tDutch painter (London)\n",
      "KONINCK, David de (see CONINCK, David de)\t(c. 1644-c. 1701)\tBaroque\tFlemish painter\n",
      "KONINCK, Philips\t(1619-1688)\tBaroque\tDutch painter (Amsterdam)\n",
      "KONINCK, Salomon\t(1609-1656)\tBaroque\tDutch painter (Amsterdam)\n",
      "KONRAD von Soest\t(active 1394-1422)\tNorthern Renaissance\tGerman painter (Westphalie)\n",
      "KOPISCH, August\t(1799-1853)\tRomanticism\tGerman painter (Berlin)\n",
      "AACHEN, Hans von\t(1552-1615)\tMannerism\tGerman painter\n",
      "AAGAARD, Carl Frederik\t(1833-1895)\tRealism\tDanish painter (Copenhagen)\n",
      "ABADIA, Juan de la\t(active 1470-1490)\tEarly Renaissance\tSpanish painter (Huesca)\n",
      "ABBATE, Niccolò dell'\t(1509-1571)\tMannerism\tItalian painter (Bologna)\n",
      "ABBATI, Giuseppe\t(1836-1868)\tRealism\tItalian painter\n",
      "ABBATINI, Guido Ubaldo\t(c. 1602-1656)\tBaroque\tItalian painter (Rome)\n",
      "ABBONDI, Antonio di Pietro (see SCARPAGNINO)\t(c. 1465-1549)\tHigh Renaissance\tItalian architect (Venice)\n",
      "ABEELE, Pieter van\t(1608-1684)\tBaroque\tDutch sculptor (Amsterdam)\n",
      "ABILDGAARD, Nicolai\t(1743-1809)\tRomanticism\tDanish painter\n",
      "ABONDIO, Antonio\t(1538-1591)\tMannerism\tItalian sculptor (Vienna)\n",
      "ACERO Y AREBO, Vicente\t(c. 1677-1739)\tBaroque\tSpanish architect\n",
      "ACHENBACH, Oswald\t(1827-1905)\tRealism\tGerman painter (Dusseldorf)\n",
      "ADAM, Albrecht\t(1786-1862)\tRomanticism\tGerman painter (Munich)\n",
      "ADAM, Robert\t(1728-1792)\tBaroque\tScottish architect (London)\n",
      "ADELCRANTZ, Carl Fredrik\t(1716-1796)\tNeoclassicism\tSwedish architect\n",
      "ADEMOLLO, Luigi\t(1764-1849)\tNeoclassicism\tItalian painter (Florence)\n",
      "ADLER, Salomon\t(1630-1709)\tBaroque\tGerman painter (Milan)\n",
      "ADOLFZOON, Christoph (see ADOLPHI, Christoffel)\t(c. 1631-1680)\tBaroque\tDutch sculptor (Amsterdam)\n",
      "ADOLPHI, Christoffel\t(c. 1631-1680)\tBaroque\tDutch sculptor (Amsterdam)\n",
      "ADRIAEN VAN UTRECHT (see UTRECHT, Adriaen van)\t(1599-1652)\tBaroque\tFlemish painter\n",
      "ADRIAENSSEN, Alexander\t(1587-1661)\tBaroque\tFlemish painter (Antwerp)\n",
      "ADRIANO FIORENTINO\t(ca. 1455-1499)\tEarly Renaissance\tItalian sculptor (Florence)\n",
      "AELST, Willem van\t(1627-c. 1683)\tBaroque\tDutch painter (Delft)\n",
      "AENVANCK, Theodoor\t(1633-1690)\tBaroque\tFlemish painter (Antwerp)\n",
      "AERT VAN ORT\t(active 1490-1536)\tNorthern Renaissance\tFlemish glass painter\n",
      "AERTSEN, Pieter\t(1508-1575)\tNorthern Renaissance\tNetherlandish painter (Amsterdam)\n",
      "AGASSE, Jacques-Laurent\t(1767-1849)\tNeoclassicism\tSwiss painter (London)\n",
      "AGNOLO DA SIENA (see AGNOLO DI VENTURA)\t(active 1311-1349)\tMedieval\tItalian sculptor (Siena)\n",
      "AGNOLO DI POLO\t(c. 1470-after 1498)\tEarly Renaissance\tItalian sculptor (Florence)\n",
      "AGNOLO DI VENTURA\t(active 1311-1349)\tMedieval\tItalian sculptor (Siena)\n",
      "AGOSTINO DI DUCCIO\t(1418-1481)\tEarly Renaissance\tItalian sculptor (Rimini)\n",
      "AGOSTINO DI GIOVANNI\t(active 1310-1347)\tMedieval\tItalian sculptor (Siena)\n",
      "AGOSTINO VENEZIANO (see MUSI, Agostino dei)\t(c. 1490-c. 1536)\tHigh Renaissance\tItalian graphic artist\n",
      "AGRATE, Gian Francesco Ferrari d'\t(1489-c. 1563)\tHigh Renaissance\tItalian sculptor (Parma)\n",
      "AGUADO LÓPEZ, Antonio\t(1764-1831)\tNeoclassicism\tSpanish architect (Madrid)\n",
      "AIVAZOVSKY, Ivan Konstantinovich\t(1817-1900)\tRealism\tRussian painter\n",
      "AKEN, Joseph van\t(c. 1699-1749)\tRococo\tFlemish painter (London)\n",
      "AKOTANTOS, Angelos\t(?-c. 1457)\tMedieval\tGreek painter (Crete)\n",
      "ALBA, Macrino d'\t(c. 1460-c. 1528)\tEarly Renaissance\tItalian painter (Alba)\n",
      "ALBANI, Francesco\t(1578-1660)\tBaroque\tItalian painter (Bologna)\n",
      "ALBEREGNO, Jacobello\t(died before1397)\tMedieval\tItalian painter (Venice)\n",
      "ALBERTI, Antonio\t(c. 1390-c. 1442)\tEarly Renaissance\tItalian painter (Urbino)\n",
      "ALBERTI, Cherubino\t(1553-1615)\tMannerism\tItalian painter (Rome)\n",
      "ALBERTI, Giovanni\t(1558-1601)\tMannerism\tItalian painter (Rome)\n",
      "ALBERTI, Leon Battista\t(1404-1472)\tEarly Renaissance\tItalian architect\n",
      "ALBERTINELLI, Mariotto\t(1474-1515)\tEarly Renaissance\tItalian painter (Florence)\n"
     ]
    }
   ],
   "source": [
    "%%bash\n",
    "cat ./data/art/artists.txt | grep -v French | wc -l \n",
    "cat ./data/art/artists.txt | grep -v French | cut -f 2 | sort | uniq | wc -l # accounts for lines that refer to the same artist\n",
    "cat ./data/art/artists.txt | grep -v French "
   ]
  },
  {
   "cell_type": "code",
   "execution_count": 15,
   "metadata": {},
   "outputs": [
    {
     "name": "stderr",
     "output_type": "stream",
     "text": [
      "mkdir: cannot create directory `./test': File exists\n"
     ]
    }
   ],
   "source": [
    "%%bash\n",
    "mkdir ./test\n",
    "rm -rf test"
   ]
  },
  {
   "cell_type": "markdown",
   "metadata": {
    "deletable": false,
    "editable": false,
    "nbgrader": {
     "cell_type": "markdown",
     "checksum": "a84600a54d9ca5b45cef51885524fdec",
     "grade": false,
     "grade_id": "cell-b298e5fd54c5f6c4",
     "locked": true,
     "schema_version": 3,
     "solution": false,
     "task": false
    }
   },
   "source": [
    "### ab.iii Developing these skills on your own time \n",
    "\n",
    "Now that we've worked through these in pairs, try the following exercises on your own. Have them complete pior to next class. <br>"
   ]
  },
  {
   "cell_type": "markdown",
   "metadata": {
    "deletable": false,
    "editable": false,
    "nbgrader": {
     "cell_type": "markdown",
     "checksum": "06b05ffd945aa28558e6a26fad47f3ad",
     "grade": false,
     "grade_id": "cell-6b0a0d4ba495152a",
     "locked": true,
     "points": 1,
     "schema_version": 3,
     "solution": false,
     "task": true
    }
   },
   "source": [
    "##### Question 5 (1 point)\n",
    "Print the first 10 lines of `artists.txt`  \n",
    "_Note: Insert cells below for your code and answer._  \n",
    "\n",
    "Make a copy of `artists.txt` and rename it as `artists_new.txt`. Move the new copy to a new folder titled `new_folder` in the `data` folder (at the same level of the `art` folder.)  \n",
    "_Note: Insert cells below for your code and answer._  "
   ]
  },
  {
   "cell_type": "code",
   "execution_count": 16,
   "metadata": {},
   "outputs": [
    {
     "name": "stdout",
     "output_type": "stream",
     "text": [
      "KILIAN, Wolfgang\t(1581-1662)\tBaroque\tGerman graphic artist (Augsburg)\n",
      "KINSOEN, François-Joseph\t(1771-1839)\tRomanticism\tFlemish painter\n",
      "KISS, August Karl Edouard\t(1802-1865)\tRomanticism\tGerman sculptor\n",
      "KISS, Bálint\t(1802-1868)\tRomanticism\tHungarian painter (Pest)\n",
      "KLEINER, Salomon\t(1703-1761)\tBaroque\tGerman graphic artist\n",
      "KLENZE, Leo von\t(1784-1864)\tRomanticism\tGerman architect\n",
      "KLESECKER, Justus (see GLESKER, Justus)\t(c. 1615-1678)\tBaroque\tGerman sculptor (Franconia)\n",
      "KLINGER, Max\t(1857-1920)\tRealism\tGerman painter\n",
      "KLOCKER, Hans\t(active 1478-1500l)\tNorthern Renaissance\tAustrian sculptor (South Tyrol)\n",
      "KLODT, Mikhail Konstantinovich\t(c. 1832-1902)\tRealism\tRussian painter (St. Petersburg)\n"
     ]
    }
   ],
   "source": [
    "%%bash\n",
    "head ./data/art/artists.txt"
   ]
  },
  {
   "cell_type": "code",
   "execution_count": 17,
   "metadata": {},
   "outputs": [
    {
     "name": "stderr",
     "output_type": "stream",
     "text": [
      "mkdir: cannot create directory `./data/new_folder': File exists\n"
     ]
    }
   ],
   "source": [
    "%%bash\n",
    "cp ./data/art/artists.txt ./data/art/artists_new.txt\n",
    "mkdir ./data/new_folder\n",
    "mv ./data/art/artists_new.txt ./data/new_folder/artists_new.txt"
   ]
  },
  {
   "cell_type": "markdown",
   "metadata": {
    "deletable": false,
    "editable": false,
    "nbgrader": {
     "cell_type": "markdown",
     "checksum": "2fb29e58fa711bb508e6cc5c3a7b3b1d",
     "grade": false,
     "grade_id": "cell-ead93ee62631f746",
     "locked": true,
     "points": 1,
     "schema_version": 3,
     "solution": false,
     "task": true
    }
   },
   "source": [
    "#### Question 6 (1 point)\n",
    "Now, ask a question about the data, then answer it with your script! Create your own script returning some information about about the `artists.txt` file that we didn't know about before or haven't yet tried - Utilize the __`sort`__ command as part of your script.  \n",
    "_Note: Insert cells below for your code and answer._  \n",
    "\n",
    "Reflections: On an integer scale of `1-5`, `1` being very easy and `5` being the most difficult, where would you rank today's exercises? Be honest! It's okay if you put a `5`, and will help us better understand how to make sure your needs are being met. "
   ]
  },
  {
   "cell_type": "code",
   "execution_count": 18,
   "metadata": {},
   "outputs": [
    {
     "name": "stdout",
     "output_type": "stream",
     "text": [
      "(1362/63-1422)\n",
      "(1404-1472)\n",
      "(1418-1481)\n",
      "(1474-1515)\n",
      "(1489-c. 1563)\n",
      "(1492-1530)\n",
      "(1508-1575)\n",
      "(1509-1571)\n",
      "(1538-1591)\n",
      "(1552-1615)\n",
      "(1553-1615)\n",
      "(1555-1630)\n",
      "(1558-1601)\n",
      "(1576-1645)\n",
      "(1577-1640)\n",
      "(1578-1644)\n",
      "(1578-1660)\n",
      "(1581-1662)\n",
      "(1582-1649)\n",
      "(1584-1635)\n",
      "(1586-1642)\n",
      "(1587-1661)\n",
      "(1588-1629)\n",
      "(1599-1652)\n",
      "(1608-1667)\n",
      "(1608-1684)\n",
      "(1609-1656)\n",
      "(1610-1690)\n",
      "(1611-1650)\n",
      "(1615-1674)\n",
      "(1615-1681)\n",
      "(1616-1695)\n",
      "(1617-1681)\n",
      "(1619-1688)\n",
      "(1619-c. 1688)\n",
      "(1622/23-1672)\n",
      "(1627-c. 1683)\n",
      "(1629-1670)\n",
      "(1630-1709)\n",
      "(1633-1690)\n",
      "(1633-1696)\n",
      "(1637-1701)\n",
      "(1639-1681)\n",
      "(1646-1723)\n",
      "(1652-1698)\n",
      "(1654-1728)\n",
      "(1658-1724)\n",
      "(1668-after 1720)\n",
      "(1674-1749)\n",
      "(1699-1753)\n",
      "(1700-1759)\n",
      "(1701-1750)\n",
      "(1703-1761)\n",
      "(1705-1778)\n",
      "(1705-1789)\n",
      "(1713-1761)\n",
      "(1716-1796)\n",
      "(1725-1804)\n",
      "(1726-1772)\n",
      "(1727-1788)\n",
      "(1728-1792)\n",
      "(1729-1785)\n",
      "(1730-1802)\n",
      "(1738-1794)\n",
      "(1739-1811)\n",
      "(1741-1808)\n",
      "(1743-1809)\n",
      "(1749-1822)\n",
      "(1751-1779)\n",
      "(1755-1830)\n",
      "(1755-1833)\n",
      "(1759-1835)\n",
      "(1764-1831)\n",
      "(1764-1849)\n",
      "(1766-1853)\n",
      "(1767-1849)\n",
      "(1768-1839)\n",
      "(1771-1839)\n",
      "(1777-1847)\n",
      "(1778-1814)\n",
      "(1783-1842)\n",
      "(1784-1864)\n",
      "(1785-1845)\n",
      "(1786-1862)\n",
      "(1789-1869)\n",
      "(1799-1853)\n",
      "(1800-1874)\n",
      "(1802-1865)\n",
      "(1802-1868)\n",
      "(1803-1862)\n",
      "(1805-1867)\n",
      "(1809-1877)\n",
      "(1810-1848)\n",
      "(1817-1900)\n",
      "(1818-1881)\n",
      "(1821-1909)\n",
      "(1822-1892)\n",
      "(1827-1905)\n",
      "(1828-1906)\n",
      "(1833-1895)\n",
      "(1836-1868)\n",
      "(1857-1920)\n",
      "(1862-1938)\n",
      "(active 1310-1347)\n",
      "(active 1311-1349)\n",
      "(active 1394-1422)\n",
      "(active 1451-c. 1479)\n",
      "(active 1470-1490)\n",
      "(active 1478-1500l)\n",
      "(active 1489–1519)\n",
      "(active 1490-1536)\n",
      "(active 1575-1590)\n",
      "(active 1610-1630)\n",
      "(active c. 1495)\n",
      "(c. 1300-after 1369)\n",
      "(c. 1330-after 1383)\n",
      "(c. 1390-c. 1442)\n",
      "(c. 1415-c. 1470)\n",
      "(c. 1420-1490)\n",
      "(c. 1440-1513)\n",
      "(?-c. 1457)\n",
      "(c. 1460-c. 1528)\n",
      "(c. 1465-1549)\n",
      "(c. 1470-after 1498)\n",
      "(c. 1490-c. 1536)\n",
      "(c 1500-1564)\n",
      "c. 1515-1576)\n",
      "(c. 1520-1583)\n",
      "(c. 1523-1591)\n",
      "(c. 1525-c. 1587)\n",
      "(c. 1560-1634)\n",
      "(c. 1580-c. 1632)\n",
      "(c. 1592-1655)\n",
      "(c. 1602-1656)\n",
      "(c. 1603-1655)\n",
      "(c. 1607-after 1693)\n",
      "(c. 1615-1678)\n",
      "(c. 1617-c. 1668)\n",
      "(c. 1631-1680)\n",
      "(c. 1644-c. 1701)\n",
      "(c. 1662-1739)\n",
      "(c. 1677-1739)\n",
      "(c. 1699-1749)\n",
      "(c. 1832-1902)\n",
      "(ca. 1455-1499)\n",
      "(died before1397)\n"
     ]
    }
   ],
   "source": [
    "%%bash\n",
    "cat ./data/art/artists.txt | cut -f 2 | sort | uniq"
   ]
  },
  {
   "cell_type": "markdown",
   "metadata": {},
   "source": [
    "3"
   ]
  },
  {
   "cell_type": "markdown",
   "metadata": {
    "deletable": false,
    "editable": false,
    "nbgrader": {
     "cell_type": "markdown",
     "checksum": "24a9dab75e823991fe8f765154a10ec4",
     "grade": false,
     "grade_id": "cell-c48add631e5a7194",
     "locked": true,
     "schema_version": 3,
     "solution": false,
     "task": false
    }
   },
   "source": [
    "## A1.ba: Wildcards, redirections, and pipes [20-30 min] Group of 3  \n",
    "### ba.i Glob\n",
    "What is glob, and why use it compared to basic command line functions?"
   ]
  },
  {
   "cell_type": "markdown",
   "metadata": {},
   "source": [
    "Glob allows using of wildcard characters, and it is a convenient way for working with many files simultaneously"
   ]
  },
  {
   "cell_type": "markdown",
   "metadata": {
    "deletable": false,
    "editable": false,
    "nbgrader": {
     "cell_type": "markdown",
     "checksum": "94bb28661a08171f4e3804b24f5c4eec",
     "grade": false,
     "grade_id": "cell-8e3c252192e9c58f",
     "locked": true,
     "points": 1,
     "schema_version": 3,
     "solution": false,
     "task": true
    }
   },
   "source": [
    "#### Question 7 (1 point)\n",
    "Utliize glob to create a command that lists all the .txt files in the `tmp` directory, located in `data`. What could be another way to glob? Include this answer as a few sentences.  \n",
    "_Note: Insert cells below for your code and answer._  "
   ]
  },
  {
   "cell_type": "code",
   "execution_count": 19,
   "metadata": {},
   "outputs": [
    {
     "name": "stdout",
     "output_type": "stream",
     "text": [
      "./data/tmp/file100.txt\n",
      "./data/tmp/file101.txt\n",
      "./data/tmp/file102.txt\n",
      "./data/tmp/file103.txt\n",
      "./data/tmp/file104.txt\n",
      "./data/tmp/file105.txt\n",
      "./data/tmp/file106.txt\n",
      "./data/tmp/file107.txt\n",
      "./data/tmp/file108.txt\n",
      "./data/tmp/file109.txt\n",
      "./data/tmp/file10.txt\n",
      "./data/tmp/file110.txt\n",
      "./data/tmp/file111.txt\n",
      "./data/tmp/file114.txt\n",
      "./data/tmp/file115.txt\n",
      "./data/tmp/file116.txt\n",
      "./data/tmp/file117.txt\n",
      "./data/tmp/file118.txt\n",
      "./data/tmp/file119.txt\n",
      "./data/tmp/file11.txt\n",
      "./data/tmp/file120.txt\n",
      "./data/tmp/file121.txt\n",
      "./data/tmp/file122.txt\n",
      "./data/tmp/file123.txt\n",
      "./data/tmp/file124.txt\n",
      "./data/tmp/file125.txt\n",
      "./data/tmp/file126.txt\n",
      "./data/tmp/file127.txt\n",
      "./data/tmp/file128.txt\n",
      "./data/tmp/file129.txt\n",
      "./data/tmp/file12.txt\n",
      "./data/tmp/file130.txt\n",
      "./data/tmp/file131.txt\n",
      "./data/tmp/file132.txt\n",
      "./data/tmp/file133.txt\n",
      "./data/tmp/file134.txt\n",
      "./data/tmp/file135.txt\n",
      "./data/tmp/file136.txt\n",
      "./data/tmp/file138.txt\n",
      "./data/tmp/file139.txt\n",
      "./data/tmp/file13.txt\n",
      "./data/tmp/file140.txt\n",
      "./data/tmp/file141.txt\n",
      "./data/tmp/file142.txt\n",
      "./data/tmp/file143.txt\n",
      "./data/tmp/file144.txt\n",
      "./data/tmp/file145.txt\n",
      "./data/tmp/file146.txt\n",
      "./data/tmp/file147.txt\n",
      "./data/tmp/file148.txt\n",
      "./data/tmp/file149.txt\n",
      "./data/tmp/file14.txt\n",
      "./data/tmp/file150.txt\n",
      "./data/tmp/file151.txt\n",
      "./data/tmp/file152.txt\n",
      "./data/tmp/file153.txt\n",
      "./data/tmp/file154.txt\n",
      "./data/tmp/file155.txt\n",
      "./data/tmp/file156.txt\n",
      "./data/tmp/file157.txt\n",
      "./data/tmp/file158.txt\n",
      "./data/tmp/file159.txt\n",
      "./data/tmp/file15.txt\n",
      "./data/tmp/file160.txt\n",
      "./data/tmp/file161.txt\n",
      "./data/tmp/file162.txt\n",
      "./data/tmp/file163.txt\n",
      "./data/tmp/file164.txt\n",
      "./data/tmp/file165.txt\n",
      "./data/tmp/file166.txt\n",
      "./data/tmp/file167.txt\n",
      "./data/tmp/file168.txt\n",
      "./data/tmp/file169.txt\n",
      "./data/tmp/file16.txt\n",
      "./data/tmp/file170.txt\n",
      "./data/tmp/file171.txt\n",
      "./data/tmp/file172.txt\n",
      "./data/tmp/file173.txt\n",
      "./data/tmp/file174.txt\n",
      "./data/tmp/file175.txt\n",
      "./data/tmp/file176.txt\n",
      "./data/tmp/file177.txt\n",
      "./data/tmp/file178.txt\n",
      "./data/tmp/file179.txt\n",
      "./data/tmp/file17.txt\n",
      "./data/tmp/file180.txt\n",
      "./data/tmp/file181.txt\n",
      "./data/tmp/file182.txt\n",
      "./data/tmp/file183.txt\n",
      "./data/tmp/file184.txt\n",
      "./data/tmp/file185.txt\n",
      "./data/tmp/file186.txt\n",
      "./data/tmp/file187.txt\n",
      "./data/tmp/file188.txt\n",
      "./data/tmp/file189.txt\n",
      "./data/tmp/file18.txt\n",
      "./data/tmp/file190.txt\n",
      "./data/tmp/file191.txt\n",
      "./data/tmp/file192.txt\n",
      "./data/tmp/file193.txt\n",
      "./data/tmp/file194.txt\n",
      "./data/tmp/file195.txt\n",
      "./data/tmp/file196.txt\n",
      "./data/tmp/file197.txt\n",
      "./data/tmp/file198.txt\n",
      "./data/tmp/file199.txt\n",
      "./data/tmp/file19.txt\n",
      "./data/tmp/file1.txt\n",
      "./data/tmp/file200.txt\n",
      "./data/tmp/file21.txt\n",
      "./data/tmp/file22.txt\n",
      "./data/tmp/file23.txt\n",
      "./data/tmp/file24.txt\n",
      "./data/tmp/file25.txt\n",
      "./data/tmp/file26.txt\n",
      "./data/tmp/file27.txt\n",
      "./data/tmp/file28.txt\n",
      "./data/tmp/file29.txt\n",
      "./data/tmp/file2.txt\n",
      "./data/tmp/file30.txt\n",
      "./data/tmp/file31.txt\n",
      "./data/tmp/file32.txt\n",
      "./data/tmp/file33.txt\n",
      "./data/tmp/file34.txt\n",
      "./data/tmp/file35.txt\n",
      "./data/tmp/file36.txt\n",
      "./data/tmp/file38.txt\n",
      "./data/tmp/file39.txt\n",
      "./data/tmp/file3.txt\n",
      "./data/tmp/file40.txt\n",
      "./data/tmp/file41.txt\n",
      "./data/tmp/file42.txt\n",
      "./data/tmp/file44.txt\n",
      "./data/tmp/file45.txt\n",
      "./data/tmp/file46.txt\n",
      "./data/tmp/file47.txt\n",
      "./data/tmp/file48.txt\n",
      "./data/tmp/file49.txt\n",
      "./data/tmp/file4.txt\n",
      "./data/tmp/file50.txt\n",
      "./data/tmp/file51.txt\n",
      "./data/tmp/file52.txt\n",
      "./data/tmp/file53.txt\n",
      "./data/tmp/file54.txt\n",
      "./data/tmp/file55.txt\n",
      "./data/tmp/file56.txt\n",
      "./data/tmp/file57.txt\n",
      "./data/tmp/file58.txt\n",
      "./data/tmp/file59.txt\n",
      "./data/tmp/file5.txt\n",
      "./data/tmp/file60.txt\n",
      "./data/tmp/file61.txt\n",
      "./data/tmp/file62.txt\n",
      "./data/tmp/file64.txt\n",
      "./data/tmp/file65.txt\n",
      "./data/tmp/file66.txt\n",
      "./data/tmp/file67.txt\n",
      "./data/tmp/file68.txt\n",
      "./data/tmp/file69.txt\n",
      "./data/tmp/file6.txt\n",
      "./data/tmp/file70.txt\n",
      "./data/tmp/file71.txt\n",
      "./data/tmp/file72.txt\n",
      "./data/tmp/file73.txt\n",
      "./data/tmp/file74.txt\n",
      "./data/tmp/file75.txt\n",
      "./data/tmp/file76.txt\n",
      "./data/tmp/file77.txt\n",
      "./data/tmp/file78.txt\n",
      "./data/tmp/file79.txt\n",
      "./data/tmp/file7.txt\n",
      "./data/tmp/file80.txt\n",
      "./data/tmp/file81.txt\n",
      "./data/tmp/file82.txt\n",
      "./data/tmp/file84.txt\n",
      "./data/tmp/file85.txt\n",
      "./data/tmp/file86.txt\n",
      "./data/tmp/file87.txt\n",
      "./data/tmp/file88.txt\n",
      "./data/tmp/file89.txt\n",
      "./data/tmp/file8.txt\n",
      "./data/tmp/file90.txt\n",
      "./data/tmp/file91.txt\n",
      "./data/tmp/file92.txt\n",
      "./data/tmp/file93.txt\n",
      "./data/tmp/file94.txt\n",
      "./data/tmp/file96.txt\n",
      "./data/tmp/file97.txt\n",
      "./data/tmp/file98.txt\n",
      "./data/tmp/file99.txt\n",
      "./data/tmp/file9.txt\n"
     ]
    }
   ],
   "source": [
    "%%bash\n",
    "ls ./data/tmp/*.txt"
   ]
  },
  {
   "cell_type": "code",
   "execution_count": 20,
   "metadata": {},
   "outputs": [
    {
     "name": "stdout",
     "output_type": "stream",
     "text": [
      "./data/tmp/file1.txt\n",
      "./data/tmp/file2.txt\n",
      "./data/tmp/file3.txt\n",
      "./data/tmp/file4.txt\n",
      "./data/tmp/file5.txt\n",
      "./data/tmp/file6.txt\n",
      "./data/tmp/file7.txt\n",
      "./data/tmp/file8.txt\n",
      "./data/tmp/file9.txt\n"
     ]
    }
   ],
   "source": [
    "%%bash\n",
    "ls ./data/tmp/file[0-9].txt # another example of globbing, lists .txt files with names from 0 to 9"
   ]
  },
  {
   "cell_type": "markdown",
   "metadata": {
    "deletable": false,
    "editable": false,
    "nbgrader": {
     "cell_type": "markdown",
     "checksum": "27b41b526436d98efad1f212127d5d3d",
     "grade": false,
     "grade_id": "cell-d78e7ace05ce7481",
     "locked": true,
     "schema_version": 3,
     "solution": false,
     "task": false
    }
   },
   "source": [
    "### ba.i Redirection and pipes  \n",
    "In your, work on these individually and then compare your scripts.\n",
    "What does it mean to redirect, and why would you utilize a pipe over a basic command line?"
   ]
  },
  {
   "cell_type": "markdown",
   "metadata": {
    "deletable": false,
    "editable": false,
    "nbgrader": {
     "cell_type": "markdown",
     "checksum": "186d70714cbddbc2622c6e20fc287c15",
     "grade": false,
     "grade_id": "cell-2896a8740be4aeb4",
     "locked": true,
     "points": 1,
     "schema_version": 3,
     "solution": false,
     "task": true
    }
   },
   "source": [
    "#### Question 8 (1 point)\n",
    "Building off of glob, use a pipe to count the number of .txt files in `data/tmp`  \n",
    "_Note: Insert cells below for your code and answer._  \n",
    "\n",
    "Now, redirect the counted number as a saved `file_number.txt` file to the `new_folder` directory. What happens to the file if you repeat the same task, but exclude the pipe (name this `file_list.txt` so you can compare)?  \n",
    "_Note: Insert cells below for your code and answer._  \n",
    "\n",
    "How do your scripts compare or differ, either in input (command) or output?  \n",
    "_Note: Insert cells below for your code and answer._"
   ]
  },
  {
   "cell_type": "code",
   "execution_count": 21,
   "metadata": {},
   "outputs": [
    {
     "name": "stdout",
     "output_type": "stream",
     "text": [
      "191\n"
     ]
    }
   ],
   "source": [
    "%%bash\n",
    "ls ./data/tmp/*.txt | wc -l"
   ]
  },
  {
   "cell_type": "code",
   "execution_count": 22,
   "metadata": {},
   "outputs": [
    {
     "name": "stdout",
     "output_type": "stream",
     "text": [
      "191\n"
     ]
    },
    {
     "name": "stderr",
     "output_type": "stream",
     "text": [
      "mkdir: cannot create directory `./new_folder': File exists\n"
     ]
    }
   ],
   "source": [
    "%%bash\n",
    "mkdir ./new_folder\n",
    "ls ./data/tmp/*.txt | wc -l > ./new_folder/file_number.txt # without the pipe it performs ls -l\n",
    "less ./new_folder/file_number.txt"
   ]
  },
  {
   "cell_type": "markdown",
   "metadata": {},
   "source": [
    "The output of the second script goes to a file, whereas the output of the first script is just printed to console "
   ]
  },
  {
   "cell_type": "markdown",
   "metadata": {
    "deletable": false,
    "editable": false,
    "nbgrader": {
     "cell_type": "markdown",
     "checksum": "73f322e1f771a3431f8273078682257c",
     "grade": false,
     "grade_id": "cell-6c262fbd792007e8",
     "locked": true,
     "schema_version": 3,
     "solution": false,
     "task": false
    }
   },
   "source": [
    "### A1.bb: Affirming what you learned in Week 1 [20-30 min, assignment] Individual"
   ]
  },
  {
   "cell_type": "markdown",
   "metadata": {
    "deletable": false,
    "editable": false,
    "nbgrader": {
     "cell_type": "markdown",
     "checksum": "db7c49effdca4d88adb5e4650e2eee16",
     "grade": false,
     "grade_id": "cell-0707e5dd07851e1b",
     "locked": true,
     "points": 1,
     "schema_version": 3,
     "solution": false,
     "task": true
    }
   },
   "source": [
    "#### Question 9 (1 point)\n",
    "What is the distinction between an absolute vs relative file path? Script an example of these two comparison along with a brief written answer.  \n",
    "_Note: Insert cells below for your code and answer._  \n",
    "\n",
    "What are 3 ways you can extend the __`ls`__ command to give you more information, and what do they give?  \n",
    "_Note: Insert cells below for your code and answer._  "
   ]
  },
  {
   "cell_type": "code",
   "execution_count": 23,
   "metadata": {},
   "outputs": [
    {
     "name": "stdout",
     "output_type": "stream",
     "text": [
      "art\n",
      "fastq\n",
      "games.csv\n",
      "models.txt\n",
      "new_folder\n",
      "RNASeq_post-processing.csv\n",
      "tmp\n",
      "art\n",
      "fastq\n",
      "games.csv\n",
      "models.txt\n",
      "new_folder\n",
      "RNASeq_post-processing.csv\n",
      "tmp\n",
      "art\n",
      "fastq\n",
      "games.csv\n",
      "models.txt\n",
      "new_folder\n",
      "RNASeq_post-processing.csv\n",
      "tmp\n"
     ]
    }
   ],
   "source": [
    "%%bash\n",
    "# an absolute path goes from the root directory and a relative path goes from the current directory\n",
    "ls data # relative path\n",
    "ls /home_local/aarzamasov/HW1/data # absolute path\n",
    "ls ~/HW1/data # relative path from the home directory"
   ]
  },
  {
   "cell_type": "code",
   "execution_count": 24,
   "metadata": {},
   "outputs": [
    {
     "name": "stdout",
     "output_type": "stream",
     "text": [
      "total 600K\n",
      "drwxrwxr-x 7 aarzamasov users 4.0K Sep  9 18:14 data\n",
      "-rw-r--r-- 1 aarzamasov users 518K Sep  8 07:51 data.zip\n",
      "drwxr-xr-x 3 aarzamasov users 4.0K Sep  9 17:16 fastq\n",
      "-rw-r--r-- 1 aarzamasov users  64K Sep 13 22:36 HW1-Bash-Basics.ipynb\n",
      "drwxr-xr-x 2 aarzamasov users 4.0K Sep 13 20:57 new_folder\n",
      "drwxr-xr-x 4 aarzamasov users 4.0K Sep  8 07:51 Question1\n",
      "total 612\n",
      "drwxr-xr-x 7 aarzamasov users   4096 Sep 13 22:37 .\n",
      "drwxr-xr-x 7 aarzamasov users   4096 Sep 13 19:48 ..\n",
      "drwxrwxr-x 7 aarzamasov users   4096 Sep  9 18:14 data\n",
      "-rw-r--r-- 1 aarzamasov users 529960 Sep  8 07:51 data.zip\n",
      "drwxr-xr-x 3 aarzamasov users   4096 Sep  9 17:16 fastq\n",
      "-rw-r--r-- 1 aarzamasov users  64929 Sep 13 22:36 HW1-Bash-Basics.ipynb\n",
      "drwxr-xr-x 2 aarzamasov users   4096 Sep  9 16:50 .ipynb_checkpoints\n",
      "drwxr-xr-x 2 aarzamasov users   4096 Sep 13 20:57 new_folder\n",
      "drwxr-xr-x 4 aarzamasov users   4096 Sep  8 07:51 Question1\n",
      "data.zip\n",
      "HW1-Bash-Basics.ipynb\n",
      "data\n",
      "fastq\n",
      "new_folder\n",
      "Question1\n"
     ]
    }
   ],
   "source": [
    "%%bash\n",
    "ls -lh # long listing format (e.g., shows permissions and file size) in human-readable form\n",
    "ls -la # long listing format, shows hidden files\n",
    "ls -S # sort by file size"
   ]
  },
  {
   "cell_type": "markdown",
   "metadata": {
    "deletable": false,
    "editable": false,
    "nbgrader": {
     "cell_type": "markdown",
     "checksum": "747e3fe4cfa5d75e3c113b5531d7999d",
     "grade": false,
     "grade_id": "cell-0707e5dd07851e1c",
     "locked": true,
     "points": 1,
     "schema_version": 3,
     "solution": false,
     "task": true
    }
   },
   "source": [
    "#### Question 10 (1 point)\n",
    "Create a file named `test.txt`, move it into the `new_folder`, then delete the file.  \n",
    "_Note: Insert cells below for your code and answer._  \n",
    "\n",
    "Create a sorted file artists (alphabetical order) from `artists.txt` labeled as `artists_sorted.txt` and place it in the `new_folder`. Then identify the number of unique artists in that file.   \n",
    "_Note: Insert cells below for your code and answer._  "
   ]
  },
  {
   "cell_type": "code",
   "execution_count": 25,
   "metadata": {},
   "outputs": [],
   "source": [
    "%%bash\n",
    "touch text.txt\n",
    "mv ./text.txt ./new_folder/text.txt\n",
    "rm ./new_folder/text.txt"
   ]
  },
  {
   "cell_type": "code",
   "execution_count": 26,
   "metadata": {},
   "outputs": [
    {
     "name": "stdout",
     "output_type": "stream",
     "text": [
      "146\n"
     ]
    }
   ],
   "source": [
    "%%bash\n",
    "cat ./data/art/artists.txt | sort > ./new_folder/artists_sorted.txt\n",
    "cat ./new_folder/artists_sorted.txt | cut -f 2 | sort | uniq | wc -l # # accounts for lines that refer to the same artist (e.g., AGNOLO DA SIENA (see AGNOLO DI VENTURA) and AGNOLO DI VENTURA refer to the same artist)"
   ]
  },
  {
   "cell_type": "markdown",
   "metadata": {
    "deletable": false,
    "editable": false,
    "nbgrader": {
     "cell_type": "markdown",
     "checksum": "624f35eb16f3eb61ecef07c4d184e63f",
     "grade": false,
     "grade_id": "cell-6a0f3f735605085",
     "locked": true,
     "points": 1,
     "schema_version": 3,
     "solution": false,
     "task": true
    }
   },
   "source": [
    "#### Question 11 (1 point)\n",
    "Use __`nano`__ in your terminal (not jupyter notebook) to create a bash script titled `print_names.sh` that echos any name entered in a list of 4 names (3 of the names are fixed, the 4th is not). Move the script to `new_folder`, then run it. Take a screenshot of the input to run the script and output. Briefly explain why you have to do this on terminal, and can't run this on your Jupyter notebook?   \n",
    "_Note: Insert cells below for your code and answer._  "
   ]
  },
  {
   "attachments": {
    "image.png": {
     "image/png": "[encoded data removed]"
    }
   },
   "cell_type": "markdown",
   "metadata": {},
   "source": [
    "![image.png](attachment:image.png)"
   ]
  },
  {
   "cell_type": "code",
   "execution_count": 3,
   "metadata": {},
   "outputs": [],
   "source": [
    "%%bash\n",
    "#read name_var\n",
    "#echo \"Peter, Jonh, James, $name_var\"\n",
    "#apparently Jupyter cannot take the standard input from the console, that is why this script works only from via terminal"
   ]
  },
  {
   "cell_type": "markdown",
   "metadata": {
    "deletable": false,
    "editable": false,
    "nbgrader": {
     "cell_type": "markdown",
     "checksum": "b3c7558db7da45edf2f08f50e5c01f87",
     "grade": false,
     "grade_id": "cell-48971fe0ad961c93",
     "locked": true,
     "points": 1,
     "schema_version": 3,
     "solution": false,
     "task": true
    }
   },
   "source": [
    "#### Question 12 (1 point)\n",
    "Use __`nano`__ to create your own script that uses 2 commands we've used and 1 command we haven't yet used (3 total, but you can include more if you'd like) that answers another question you have about the contents of the `artists.txt` file. Label this script as `artist_text.sh` and place it in `new_folder`. Describe what it does, and how.   \n",
    "_Note: Insert cells below for your code and answer._\n",
    "\n",
    "Reflections: On an integer scale of `1-5`, `1` being very easy and `5` being the most difficult, where would you rank the A1.bb assignment and why? Include some notes about what you gained from this past week that you didn't know before as well as notes of things you already knew.\n",
    "\n",
    "Improvements: Notice a [potentially intentional] mistake, or an area of this homework that could have been improved? Include your thoughts here. "
   ]
  },
  {
   "cell_type": "code",
   "execution_count": 6,
   "metadata": {},
   "outputs": [],
   "source": [
    "#cat ~/HW1/data/art/artists.txt | cut -f 4 | grep \"London\" > ~/HW1/new_folder/london.txt\n",
    "#gzip ~/HW1/new_folder/london.txt\n",
    "#The script searches the artists.txt file, finds all artists that were located in London, redirects the output to the file london.txt, and archives that file"
   ]
  },
  {
   "cell_type": "markdown",
   "metadata": {},
   "source": [
    "I would rate A1.bb with 4. Many tasks require either prior knowledge of bash or additional extensive reading. For example, the standard input from console and bash scripts were not addressed during the lectures.\n",
    "\n",
    "While working on the homework, I discovered for myself that `uniq` does not collapse duplicates unless they are adjacent lines. Thus, the `sort | uniq` structure is needed to correctly identify all duplicates."
   ]
  }
 ],
 "metadata": {
  "kernelspec": {
   "display_name": "Python [conda env:rnaseq] *",
   "language": "python",
   "name": "conda-env-rnaseq-py"
  },
  "language_info": {
   "codemirror_mode": {
    "name": "ipython",
    "version": 3
   },
   "file_extension": ".py",
   "mimetype": "text/x-python",
   "name": "python",
   "nbconvert_exporter": "python",
   "pygments_lexer": "ipython3",
   "version": "3.8.5"
  }
 },
 "nbformat": 4,
 "nbformat_minor": 4
}
